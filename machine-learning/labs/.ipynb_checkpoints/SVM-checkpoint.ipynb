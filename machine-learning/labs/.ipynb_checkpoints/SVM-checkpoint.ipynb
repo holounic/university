{
 "cells": [
  {
   "attachments": {
    "photo_2022-03-14_15-26-36.jpg": {
     "image/jpeg": "[encoded data removed]"
    }
   },
   "cell_type": "markdown",
   "id": "0e4be277",
   "metadata": {},
   "source": [
    "![photo_2022-03-14_15-26-36.jpg](attachment:photo_2022-03-14_15-26-36.jpg)"
   ]
  },
  {
   "cell_type": "code",
   "execution_count": 49,
   "id": "a2e258a5",
   "metadata": {},
   "outputs": [],
   "source": [
    "import pandas as pd\n",
    "import jax\n",
    "import jax.numpy as jnp\n",
    "import matplotlib.pyplot as plt\n",
    "from sklearn.metrics import accuracy_score as accuracy\n",
    "from sklearn.model_selection import train_test_split, KFold\n",
    "from tqdm.notebook import trange, tqdm\n",
    "from mlxtend.plotting import plot_decision_regions\n",
    "import matplotlib.pyplot as plt\n",
    "from sklearn.base import BaseEstimator\n",
    "import time"
   ]
  },
  {
   "cell_type": "code",
   "execution_count": 2,
   "id": "7f1b2dff",
   "metadata": {},
   "outputs": [],
   "source": [
    "geyser = pd.read_csv('./data/geyser.csv')\n",
    "chip = pd.read_csv('./data/chips.csv')"
   ]
  },
  {
   "cell_type": "code",
   "execution_count": 3,
   "id": "262c9675",
   "metadata": {},
   "outputs": [
    {
     "name": "stderr",
     "output_type": "stream",
     "text": [
      "/home/masha/.local/lib/python3.8/site-packages/pandas/core/indexing.py:1732: SettingWithCopyWarning: \n",
      "A value is trying to be set on a copy of a slice from a DataFrame\n",
      "\n",
      "See the caveats in the documentation: https://pandas.pydata.org/pandas-docs/stable/user_guide/indexing.html#returning-a-view-versus-a-copy\n",
      "  self._setitem_single_block(indexer, value, name)\n"
     ]
    },
    {
     "data": {
      "text/html": [
       "<div>\n",
       "<style scoped>\n",
       "    .dataframe tbody tr th:only-of-type {\n",
       "        vertical-align: middle;\n",
       "    }\n",
       "\n",
       "    .dataframe tbody tr th {\n",
       "        vertical-align: top;\n",
       "    }\n",
       "\n",
       "    .dataframe thead th {\n",
       "        text-align: right;\n",
       "    }\n",
       "</style>\n",
       "<table border=\"1\" class=\"dataframe\">\n",
       "  <thead>\n",
       "    <tr style=\"text-align: right;\">\n",
       "      <th></th>\n",
       "      <th>x</th>\n",
       "      <th>y</th>\n",
       "      <th>class</th>\n",
       "    </tr>\n",
       "  </thead>\n",
       "  <tbody>\n",
       "    <tr>\n",
       "      <th>0</th>\n",
       "      <td>0.051267</td>\n",
       "      <td>0.69956</td>\n",
       "      <td>1</td>\n",
       "    </tr>\n",
       "    <tr>\n",
       "      <th>1</th>\n",
       "      <td>-0.092742</td>\n",
       "      <td>0.68494</td>\n",
       "      <td>1</td>\n",
       "    </tr>\n",
       "    <tr>\n",
       "      <th>2</th>\n",
       "      <td>-0.213710</td>\n",
       "      <td>0.69225</td>\n",
       "      <td>1</td>\n",
       "    </tr>\n",
       "    <tr>\n",
       "      <th>3</th>\n",
       "      <td>-0.375000</td>\n",
       "      <td>0.50219</td>\n",
       "      <td>1</td>\n",
       "    </tr>\n",
       "    <tr>\n",
       "      <th>4</th>\n",
       "      <td>-0.513250</td>\n",
       "      <td>0.46564</td>\n",
       "      <td>1</td>\n",
       "    </tr>\n",
       "  </tbody>\n",
       "</table>\n",
       "</div>"
      ],
      "text/plain": [
       "          x        y class\n",
       "0  0.051267  0.69956     1\n",
       "1 -0.092742  0.68494     1\n",
       "2 -0.213710  0.69225     1\n",
       "3 -0.375000  0.50219     1\n",
       "4 -0.513250  0.46564     1"
      ]
     },
     "execution_count": 3,
     "metadata": {},
     "output_type": "execute_result"
    }
   ],
   "source": [
    "def to_sign(ds):\n",
    "    ds['class'].loc[ds['class'] == 'N'] = -1\n",
    "    ds['class'].loc[ds['class'] == 'P'] = 1\n",
    "\n",
    "to_sign(geyser)\n",
    "to_sign(chip)\n",
    "chip.head()"
   ]
  },
  {
   "cell_type": "code",
   "execution_count": 4,
   "id": "9a15078a",
   "metadata": {},
   "outputs": [],
   "source": [
    "def to_x_y(ds):\n",
    "    return ds.drop('class', axis=1).values, ds['class'].values"
   ]
  },
  {
   "cell_type": "markdown",
   "id": "ca6565f4",
   "metadata": {},
   "source": [
    "# Kernels"
   ]
  },
  {
   "cell_type": "code",
   "execution_count": 5,
   "id": "23f3448e",
   "metadata": {},
   "outputs": [],
   "source": [
    "def linear(_):\n",
    "    def kernel(x, y):\n",
    "        return jnp.matmul(jnp.transpose(x), y)\n",
    "    return kernel\n",
    "\n",
    "def polynomial(d=1):\n",
    "    def kernel(x, y):\n",
    "        return (jnp.matmul(jnp.transpose(x), y) + 1)**d\n",
    "    return kernel\n",
    "\n",
    "def gaussian(sigma_squared=1):\n",
    "    def kernel(x, y):\n",
    "        return jnp.exp(- linear(_)(jnp.subtract(x, y), jnp.subtract(x, y))**2)\n",
    "    return kernel"
   ]
  },
  {
   "cell_type": "code",
   "execution_count": 6,
   "id": "4d73ac99",
   "metadata": {},
   "outputs": [
    {
     "name": "stdout",
     "output_type": "stream",
     "text": [
      "Linear: -3.005676746368408, Polynomial: -2.005676746368408, Gaussian: 0.0\n"
     ]
    }
   ],
   "source": [
    "l = linear(None)\n",
    "poly = polynomial()\n",
    "gauss = gaussian()\n",
    "print(f\"Linear: {l(chip['x'].values, chip['y'].values)}, Polynomial: {poly(chip['x'].values, chip['y'].values)}, Gaussian: {gauss(chip['x'].values, chip['y'].values)}\")"
   ]
  },
  {
   "cell_type": "markdown",
   "id": "07afa57b",
   "metadata": {},
   "source": [
    "# [Nice SVM with SMO NO BUGS](https://www.microsoft.com/en-us/research/uploads/prod/1998/04/sequential-minimal-optimization.pdf)"
   ]
  },
  {
   "cell_type": "code",
   "execution_count": 7,
   "id": "01f8fd74",
   "metadata": {},
   "outputs": [],
   "source": [
    "def svm(xs, ys, alphas, kernel, b):\n",
    "    def solve(x_dot):\n",
    "        return b + sum([alpha * y * kernel(x, x_dot) for (alpha, y, x) in zip(alphas, ys, xs)])\n",
    "    return solve\n",
    "\n",
    "def to_class(svm, x):\n",
    "    return [int(p) for p in jnp.sign(jnp.array([svm(x_dot) for x_dot in x]))]"
   ]
  },
  {
   "cell_type": "code",
   "execution_count": 8,
   "id": "a08f33ac",
   "metadata": {},
   "outputs": [],
   "source": [
    "# sequential minimal optimization\n",
    "def smo(xs, ys, kernel, c, steps=1, eps=1e-5, seed=0):\n",
    "    b = 0\n",
    "    alphas = jnp.zeros(xs.shape[0])\n",
    "    \n",
    "    def optimize(i1, i2):\n",
    "        nonlocal b\n",
    "        nonlocal alphas\n",
    "        \n",
    "        if i1 == i2:\n",
    "            return False\n",
    "        \n",
    "        x1, x2 = xs[i1], xs[i2]\n",
    "        alpha1, alpha2 = alphas[i1], alphas[i2]\n",
    "        y1, y2 = ys[i1], ys[i2]\n",
    "        cur_svm = svm(xs, ys, alphas, kernel, b)\n",
    "        e1 = svm(xs, ys, alphas, kernel, b)(x1) - y1\n",
    "        \n",
    "        if not (y1 * e1 < - eps and alpha1 < c or y1 * e1 > eps and alpha1 > 0):\n",
    "            return False\n",
    "        \n",
    "        e2 = svm(xs, ys, alphas, kernel, b)(x2) - y2\n",
    "        s = y1 * y2\n",
    "        \n",
    "        if y1 == y2:\n",
    "            l = max(0, alpha2 + alpha1 - c)\n",
    "            h = min(c, alpha2 + alpha1)\n",
    "        else:\n",
    "            l = max(0, alpha2 - alpha1)\n",
    "            h = min(c, c + alpha2 - alpha1)\n",
    "            \n",
    "        if abs(l - h) < eps:\n",
    "            return False\n",
    "        \n",
    "        k11 = kernel(x1, x1)\n",
    "        k12 = kernel(x1, x2)\n",
    "        k22 = kernel(x2, x2)\n",
    "        \n",
    "        eta = - (k11 + k22 - 2 * k12)\n",
    "        \n",
    "        if eta >= 0:\n",
    "            return False\n",
    "        \n",
    "        a2 = alpha2 - y2 * (e1 - e2) / eta\n",
    "        if a2 < l:\n",
    "            a2 = l\n",
    "        elif a2 > h:\n",
    "            a2 = h\n",
    "        \n",
    "        if abs(a2 - alpha2) < eps:\n",
    "            return False\n",
    "        \n",
    "        a1 = alpha1 + s * (alpha2 - a2)\n",
    "        \n",
    "        # update threshold\n",
    "        b1 = b - e1 - y1 * (a1 - alpha1) * k11 - y2 * (a2 - alpha2) * k12\n",
    "        b2 = b - e2 - y1 * (a1 - alpha1) * k12 - y2 * (a2 - alpha2) * k22\n",
    "        \n",
    "        if 0 < a1 and a1 < c:\n",
    "            b = b1\n",
    "        elif 0 < a2 and a2 < c:\n",
    "            b = b2\n",
    "        else:\n",
    "            b = (b1 + b2) / 2\n",
    "            \n",
    "        alphas = alphas.at[i1].set(a1)\n",
    "        alphas = alphas.at[i2].set(a2)\n",
    "        return True\n",
    "    \n",
    "    key = jax.random.PRNGKey(seed)\n",
    "    for step in range(steps):\n",
    "        for i in range(len(ys)):\n",
    "            j = jax.random.randint(key, (1,), 0, len(xs) - 1)[0]\n",
    "            key = jax.random.split(key, num=1)[0]\n",
    "            optimized = optimize(i, j)\n",
    "            \n",
    "    return svm(xs, ys, alphas, kernel, b), (alphas, b)"
   ]
  },
  {
   "cell_type": "markdown",
   "id": "b305bd27",
   "metadata": {},
   "source": [
    "# Nice hyperparams"
   ]
  },
  {
   "cell_type": "code",
   "execution_count": 9,
   "id": "83df20ea",
   "metadata": {},
   "outputs": [],
   "source": [
    "def find_hyperparams(data, cs, kernel_stuff):\n",
    "    kernels, kernel_args = kernel_stuff\n",
    "    x, y = data\n",
    "    kf = KFold(n_splits=3)\n",
    "    best_results = {kernel: {'accuracy': 0} for kernel in kernels}\n",
    "    for c in tqdm(cs):\n",
    "        for (kernel, args) in zip(kernels, kernel_args):\n",
    "            print(f'Kernel: {kernel}')\n",
    "            for arg in args:\n",
    "                acc = 0\n",
    "                for train_index, test_index in kf.split(x):\n",
    "                    train_index = jnp.array(train_index)\n",
    "                    test_index = jnp.array(test_index)\n",
    "                    x_train, y_train = x.take(train_index), y.take(train_index)\n",
    "                    x_test, y_test = x.take(test_index), y.take(test_index)\n",
    "                    nice_svm, _ = smo(x_train, y_train, kernel(arg), c=c, steps=1)\n",
    "                    predictions = to_class(nice_svm, x_test)\n",
    "                    acc += accuracy(predictions, y_test)\n",
    "                acc /= kf.get_nb_splits(x)\n",
    "                if acc > best_results[kernel]['accuracy']:\n",
    "                    best_results[kernel]['accuracy'] = acc\n",
    "                    best_results[kernel]['kernel_args'] = arg\n",
    "                    best_results[kernel]['c'] = c\n",
    "            print('------Best accuracy: ', best_results[kernel]['accuracy'])\n",
    "    return best_results"
   ]
  },
  {
   "cell_type": "code",
   "execution_count": 10,
   "id": "049781c4",
   "metadata": {},
   "outputs": [],
   "source": [
    "kernels = (linear, polynomial, gaussian)\n",
    "kernel_args = ((None,), (2, 3, 5), (1, 2, 5))\n",
    "c = (0.1, 1, 100)"
   ]
  },
  {
   "cell_type": "markdown",
   "id": "c2156567",
   "metadata": {},
   "source": [
    "# Visualization"
   ]
  },
  {
   "cell_type": "code",
   "execution_count": 11,
   "id": "9f4b77a6",
   "metadata": {},
   "outputs": [],
   "source": [
    "COLORS = ('blue', 'yellow', 'red')\n",
    "\n",
    "def plot_svm(svm, min_y=0, min_x=0, max_y=5, max_x=25):\n",
    "    xs = []\n",
    "    for i in jnp.linspace(min_y, max_y, num=10):\n",
    "        js = jnp.linspace(min_x, max_x, num=50)\n",
    "        xs = xs + [jnp.array([j, i]) for j in js]\n",
    "    y = to_class(svm, xs)\n",
    "    plot_something(xs, y)\n",
    "    \n",
    "def plot_svm_solution(svm, x, y):\n",
    "    prediction = to_class(svm, x)\n",
    "    for (x_dot, y_true, pred) in zip(x, y, prediction):\n",
    "        plt.scatter(*x_dot, color=COLORS[2 if not y_true == pred else max(0, y_true)])\n",
    "    plt.show()\n",
    "    \n",
    "def plot_something(x, y):\n",
    "    for (x_dot, y_dot) in zip(x, y):\n",
    "        plt.scatter(*x_dot, color=COLORS[max(0, y_dot)])\n",
    "    plt.show()"
   ]
  },
  {
   "cell_type": "markdown",
   "id": "6ff097d8",
   "metadata": {},
   "source": [
    "## Geyser"
   ]
  },
  {
   "cell_type": "code",
   "execution_count": 12,
   "id": "270e24e1",
   "metadata": {},
   "outputs": [
    {
     "name": "stderr",
     "output_type": "stream",
     "text": [
      "/tmp/ipykernel_2446884/126357050.py:3: DeprecationWarning: Converting `np.integer` or `np.signedinteger` to a dtype is deprecated. The current result is `np.dtype(np.int_)` which is not strictly correct. Note that the result depends on the system. To ensure stable results use may want to use `np.int64` or `np.int32`.\n",
      "  y_test = y_test.astype(jnp.integer)\n"
     ]
    }
   ],
   "source": [
    "x, y = to_x_y(geyser)\n",
    "y = y.astype(jnp.integer)"
   ]
  },
  {
   "cell_type": "code",
   "execution_count": 14,
   "id": "1aa9ffb1",
   "metadata": {},
   "outputs": [
    {
     "data": {
      "application/vnd.jupyter.widget-view+json": {
       "model_id": "3d32f89ccad0475e9db6b1a9b510b675",
       "version_major": 2,
       "version_minor": 0
      },
      "text/plain": [
       "  0%|          | 0/3 [00:00<?, ?it/s]"
      ]
     },
     "metadata": {},
     "output_type": "display_data"
    },
    {
     "name": "stdout",
     "output_type": "stream",
     "text": [
      "Kernel: <function linear at 0x7fdc67fc2940>\n",
      "------Best accuracy:  0.8444444444444444\n",
      "Kernel: <function polynomial at 0x7fdc67fc29d0>\n",
      "------Best accuracy:  0.7777777777777778\n",
      "Kernel: <function gaussian at 0x7fdc67fc2a60>\n",
      "------Best accuracy:  0.8\n",
      "Kernel: <function linear at 0x7fdc67fc2940>\n",
      "------Best accuracy:  0.8888888888888888\n",
      "Kernel: <function polynomial at 0x7fdc67fc29d0>\n",
      "------Best accuracy:  0.7777777777777778\n",
      "Kernel: <function gaussian at 0x7fdc67fc2a60>\n",
      "------Best accuracy:  0.8888888888888888\n",
      "Kernel: <function linear at 0x7fdc67fc2940>\n",
      "------Best accuracy:  0.8888888888888888\n",
      "Kernel: <function polynomial at 0x7fdc67fc29d0>\n",
      "------Best accuracy:  0.7777777777777778\n",
      "Kernel: <function gaussian at 0x7fdc67fc2a60>\n",
      "------Best accuracy:  0.8888888888888888\n"
     ]
    },
    {
     "data": {
      "text/plain": [
       "{<function __main__.linear(_)>: {'accuracy': 0.8888888888888888,\n",
       "  'kernel_args': None,\n",
       "  'c': 1},\n",
       " <function __main__.polynomial(d=1)>: {'accuracy': 0.7777777777777778,\n",
       "  'kernel_args': 2,\n",
       "  'c': 0.1},\n",
       " <function __main__.gaussian(sigma_squared=1)>: {'accuracy': 0.8888888888888888,\n",
       "  'kernel_args': 1,\n",
       "  'c': 1}}"
      ]
     },
     "execution_count": 14,
     "metadata": {},
     "output_type": "execute_result"
    }
   ],
   "source": [
    "best_params = find_hyperparams((x, y), c, (kernels, kernel_args))\n",
    "best_params"
   ]
  },
  {
   "cell_type": "markdown",
   "id": "30af69db",
   "metadata": {},
   "source": [
    "### Linear"
   ]
  },
  {
   "cell_type": "code",
   "execution_count": 15,
   "id": "f7072d77",
   "metadata": {},
   "outputs": [],
   "source": [
    "x, y = to_x_y(geyser)\n",
    "best_linear, linear_params = smo(x, y, kernel=linear(_), c=1)"
   ]
  },
  {
   "cell_type": "code",
   "execution_count": 16,
   "id": "622f9b61",
   "metadata": {},
   "outputs": [
    {
     "name": "stderr",
     "output_type": "stream",
     "text": [
      "/tmp/ipykernel_2446884/2966238524.py:1: DeprecationWarning: Converting `np.integer` or `np.signedinteger` to a dtype is deprecated. The current result is `np.dtype(np.int_)` which is not strictly correct. Note that the result depends on the system. To ensure stable results use may want to use `np.int64` or `np.int32`.\n",
      "  f'Accuracy {accuracy(y.astype(jnp.integer), to_class(best_linear, x))}'\n"
     ]
    },
    {
     "data": {
      "text/plain": [
       "'Accuracy 0.8603603603603603'"
      ]
     },
     "execution_count": 16,
     "metadata": {},
     "output_type": "execute_result"
    }
   ],
   "source": [
    "f'Accuracy {accuracy(y.astype(jnp.integer), to_class(best_linear, x))}'"
   ]
  },
  {
   "cell_type": "markdown",
   "id": "018faa8f",
   "metadata": {},
   "source": [
    "#### Decision region"
   ]
  },
  {
   "cell_type": "code",
   "execution_count": 17,
   "id": "dd41294a",
   "metadata": {},
   "outputs": [
    {
     "data": {
      "image/png": "[encoded data removed]",
      "text/plain": [
       "<Figure size 432x288 with 1 Axes>"
      ]
     },
     "metadata": {
      "needs_background": "light"
     },
     "output_type": "display_data"
    }
   ],
   "source": [
    "plot_svm(best_linear)"
   ]
  },
  {
   "cell_type": "markdown",
   "id": "255e1f67",
   "metadata": {},
   "source": [
    "#### SVM classification & errors"
   ]
  },
  {
   "cell_type": "code",
   "execution_count": 18,
   "id": "68c043fc",
   "metadata": {},
   "outputs": [
    {
     "data": {
      "image/png": "[encoded data removed]",
      "text/plain": [
       "<Figure size 432x288 with 1 Axes>"
      ]
     },
     "metadata": {
      "needs_background": "light"
     },
     "output_type": "display_data"
    }
   ],
   "source": [
    "plot_svm_solution(best_linear, x, y)"
   ]
  },
  {
   "cell_type": "markdown",
   "id": "5515a6f9",
   "metadata": {},
   "source": [
    "#### Real data"
   ]
  },
  {
   "cell_type": "code",
   "execution_count": 19,
   "id": "acab323b",
   "metadata": {},
   "outputs": [
    {
     "data": {
      "image/png": "[encoded data removed]",
      "text/plain": [
       "<Figure size 432x288 with 1 Axes>"
      ]
     },
     "metadata": {
      "needs_background": "light"
     },
     "output_type": "display_data"
    }
   ],
   "source": [
    "plot_something(x, y)"
   ]
  },
  {
   "cell_type": "markdown",
   "id": "639dd47e",
   "metadata": {},
   "source": [
    "### Polynomial"
   ]
  },
  {
   "cell_type": "code",
   "execution_count": 22,
   "id": "ab414640",
   "metadata": {},
   "outputs": [],
   "source": [
    "x, y = to_x_y(geyser)\n",
    "best_poly, poly_params = smo(x, y, kernel=polynomial(2), c=.1)"
   ]
  },
  {
   "cell_type": "code",
   "execution_count": 23,
   "id": "e9059fd6",
   "metadata": {},
   "outputs": [
    {
     "name": "stderr",
     "output_type": "stream",
     "text": [
      "/tmp/ipykernel_2446884/1926486611.py:1: DeprecationWarning: Converting `np.integer` or `np.signedinteger` to a dtype is deprecated. The current result is `np.dtype(np.int_)` which is not strictly correct. Note that the result depends on the system. To ensure stable results use may want to use `np.int64` or `np.int32`.\n",
      "  f'Accuracy {accuracy(y.astype(jnp.integer), to_class(best_poly, x))}'\n"
     ]
    },
    {
     "data": {
      "text/plain": [
       "'Accuracy 0.7612612612612613'"
      ]
     },
     "execution_count": 23,
     "metadata": {},
     "output_type": "execute_result"
    }
   ],
   "source": [
    "f'Accuracy {accuracy(y.astype(jnp.integer), to_class(best_poly, x))}'"
   ]
  },
  {
   "cell_type": "markdown",
   "id": "668c8fb6",
   "metadata": {},
   "source": [
    "#### Decision regions"
   ]
  },
  {
   "cell_type": "code",
   "execution_count": 24,
   "id": "d40bcaf4",
   "metadata": {},
   "outputs": [
    {
     "data": {
      "image/png": "[encoded data removed]",
      "text/plain": [
       "<Figure size 432x288 with 1 Axes>"
      ]
     },
     "metadata": {
      "needs_background": "light"
     },
     "output_type": "display_data"
    }
   ],
   "source": [
    "plot_svm(best_poly)"
   ]
  },
  {
   "cell_type": "markdown",
   "id": "16237b65",
   "metadata": {},
   "source": [
    "#### SVM predictions & errors"
   ]
  },
  {
   "cell_type": "code",
   "execution_count": 25,
   "id": "24dddd62",
   "metadata": {},
   "outputs": [
    {
     "data": {
      "image/png": "[encoded data removed]",
      "text/plain": [
       "<Figure size 432x288 with 1 Axes>"
      ]
     },
     "metadata": {
      "needs_background": "light"
     },
     "output_type": "display_data"
    }
   ],
   "source": [
    "plot_svm_solution(best_poly, x, y)"
   ]
  },
  {
   "cell_type": "markdown",
   "id": "91aff2fe",
   "metadata": {},
   "source": [
    "#### Real data"
   ]
  },
  {
   "cell_type": "code",
   "execution_count": 26,
   "id": "88b2f547",
   "metadata": {},
   "outputs": [
    {
     "data": {
      "image/png": "[encoded data removed]",
      "text/plain": [
       "<Figure size 432x288 with 1 Axes>"
      ]
     },
     "metadata": {
      "needs_background": "light"
     },
     "output_type": "display_data"
    }
   ],
   "source": [
    "plot_something(x, y)"
   ]
  },
  {
   "cell_type": "markdown",
   "id": "00a26726",
   "metadata": {},
   "source": [
    "### Gaussian"
   ]
  },
  {
   "cell_type": "code",
   "execution_count": 27,
   "id": "5f161cad",
   "metadata": {},
   "outputs": [],
   "source": [
    "x, y = to_x_y(geyser)\n",
    "best_gauss, _ = smo(x, y, kernel=gaussian(1), c=1)"
   ]
  },
  {
   "cell_type": "code",
   "execution_count": 28,
   "id": "ba0db426",
   "metadata": {},
   "outputs": [
    {
     "name": "stderr",
     "output_type": "stream",
     "text": [
      "/tmp/ipykernel_2446884/1674753320.py:1: DeprecationWarning: Converting `np.integer` or `np.signedinteger` to a dtype is deprecated. The current result is `np.dtype(np.int_)` which is not strictly correct. Note that the result depends on the system. To ensure stable results use may want to use `np.int64` or `np.int32`.\n",
      "  f'Accuracy {accuracy(y.astype(jnp.integer), to_class(best_gauss, x))}'\n"
     ]
    },
    {
     "data": {
      "text/plain": [
       "'Accuracy 0.8873873873873874'"
      ]
     },
     "execution_count": 28,
     "metadata": {},
     "output_type": "execute_result"
    }
   ],
   "source": [
    "f'Accuracy {accuracy(y.astype(jnp.integer), to_class(best_gauss, x))}'"
   ]
  },
  {
   "cell_type": "markdown",
   "id": "d2b5caa7",
   "metadata": {},
   "source": [
    "#### Decision Regions"
   ]
  },
  {
   "cell_type": "code",
   "execution_count": 29,
   "id": "882f4477",
   "metadata": {},
   "outputs": [
    {
     "data": {
      "image/png": "[encoded data removed]",
      "text/plain": [
       "<Figure size 432x288 with 1 Axes>"
      ]
     },
     "metadata": {
      "needs_background": "light"
     },
     "output_type": "display_data"
    }
   ],
   "source": [
    "plot_svm(best_gauss)"
   ]
  },
  {
   "cell_type": "markdown",
   "id": "d26bd0f1",
   "metadata": {},
   "source": [
    "#### SVM predictions & errors"
   ]
  },
  {
   "cell_type": "code",
   "execution_count": 30,
   "id": "ab4a4248",
   "metadata": {},
   "outputs": [
    {
     "data": {
      "image/png": "[encoded data removed]",
      "text/plain": [
       "<Figure size 432x288 with 1 Axes>"
      ]
     },
     "metadata": {
      "needs_background": "light"
     },
     "output_type": "display_data"
    }
   ],
   "source": [
    "plot_svm_solution(best_gauss, x, y)"
   ]
  },
  {
   "cell_type": "markdown",
   "id": "12d79f20",
   "metadata": {},
   "source": [
    "#### Real data"
   ]
  },
  {
   "cell_type": "code",
   "execution_count": 31,
   "id": "8bf5da65",
   "metadata": {},
   "outputs": [
    {
     "data": {
      "image/png": "[encoded data removed]",
      "text/plain": [
       "<Figure size 432x288 with 1 Axes>"
      ]
     },
     "metadata": {
      "needs_background": "light"
     },
     "output_type": "display_data"
    }
   ],
   "source": [
    "plot_something(x, y)"
   ]
  },
  {
   "cell_type": "markdown",
   "id": "895da14f",
   "metadata": {},
   "source": [
    "## Chips"
   ]
  },
  {
   "cell_type": "code",
   "execution_count": 32,
   "id": "7469e877",
   "metadata": {},
   "outputs": [],
   "source": [
    "x, y = to_x_y(chip)\n",
    "y = y.astype(jnp.integer)"
   ]
  },
  {
   "cell_type": "code",
   "execution_count": 33,
   "id": "45ad8087",
   "metadata": {},
   "outputs": [
    {
     "data": {
      "application/vnd.jupyter.widget-view+json": {
       "model_id": "0291121a9ad442b7ad20118cd0808f15",
       "version_major": 2,
       "version_minor": 0
      },
      "text/plain": [
       "  0%|          | 0/3 [00:00<?, ?it/s]"
      ]
     },
     "metadata": {},
     "output_type": "display_data"
    },
    {
     "name": "stdout",
     "output_type": "stream",
     "text": [
      "Kernel: <function linear at 0x7fdc67fc2940>\n",
      "------Best accuracy:  0.5\n",
      "Kernel: <function polynomial at 0x7fdc67fc29d0>\n",
      "------Best accuracy:  0.625\n",
      "Kernel: <function gaussian at 0x7fdc67fc2a60>\n",
      "------Best accuracy:  0.6666666666666666\n",
      "Kernel: <function linear at 0x7fdc67fc2940>\n",
      "------Best accuracy:  0.5833333333333334\n",
      "Kernel: <function polynomial at 0x7fdc67fc29d0>\n",
      "------Best accuracy:  0.75\n",
      "Kernel: <function gaussian at 0x7fdc67fc2a60>\n",
      "------Best accuracy:  0.75\n",
      "Kernel: <function linear at 0x7fdc67fc2940>\n",
      "------Best accuracy:  0.5833333333333334\n",
      "Kernel: <function polynomial at 0x7fdc67fc29d0>\n",
      "------Best accuracy:  0.75\n",
      "Kernel: <function gaussian at 0x7fdc67fc2a60>\n",
      "------Best accuracy:  0.75\n"
     ]
    },
    {
     "data": {
      "text/plain": [
       "{<function __main__.linear(_)>: {'accuracy': 0.5833333333333334,\n",
       "  'kernel_args': None,\n",
       "  'c': 1},\n",
       " <function __main__.polynomial(d=1)>: {'accuracy': 0.75,\n",
       "  'kernel_args': 5,\n",
       "  'c': 1},\n",
       " <function __main__.gaussian(sigma_squared=1)>: {'accuracy': 0.75,\n",
       "  'kernel_args': 1,\n",
       "  'c': 1}}"
      ]
     },
     "execution_count": 33,
     "metadata": {},
     "output_type": "execute_result"
    }
   ],
   "source": [
    "best_params = find_hyperparams((x, y), c, (kernels, kernel_args))\n",
    "best_params"
   ]
  },
  {
   "cell_type": "markdown",
   "id": "f2514992",
   "metadata": {},
   "source": [
    "### Linear"
   ]
  },
  {
   "cell_type": "code",
   "execution_count": 35,
   "id": "0ce325aa",
   "metadata": {},
   "outputs": [],
   "source": [
    "x, y = to_x_y(chip)\n",
    "best_linear, linear_params = smo(x, y, kernel=linear(_), c=1, steps=1)"
   ]
  },
  {
   "cell_type": "code",
   "execution_count": 36,
   "id": "0e905498",
   "metadata": {},
   "outputs": [
    {
     "name": "stderr",
     "output_type": "stream",
     "text": [
      "/tmp/ipykernel_2446884/2966238524.py:1: DeprecationWarning: Converting `np.integer` or `np.signedinteger` to a dtype is deprecated. The current result is `np.dtype(np.int_)` which is not strictly correct. Note that the result depends on the system. To ensure stable results use may want to use `np.int64` or `np.int32`.\n",
      "  f'Accuracy {accuracy(y.astype(jnp.integer), to_class(best_linear, x))}'\n"
     ]
    },
    {
     "data": {
      "text/plain": [
       "'Accuracy 0.5084745762711864'"
      ]
     },
     "execution_count": 36,
     "metadata": {},
     "output_type": "execute_result"
    }
   ],
   "source": [
    "f'Accuracy {accuracy(y.astype(jnp.integer), to_class(best_linear, x))}'"
   ]
  },
  {
   "cell_type": "code",
   "execution_count": 37,
   "id": "9ffd179d",
   "metadata": {},
   "outputs": [
    {
     "data": {
      "image/png": "[encoded data removed]",
      "text/plain": [
       "<Figure size 432x288 with 1 Axes>"
      ]
     },
     "metadata": {
      "needs_background": "light"
     },
     "output_type": "display_data"
    }
   ],
   "source": [
    "plot_svm(best_linear, min_x=-0.75, min_y=-0.75, max_x=1., max_y=1.)"
   ]
  },
  {
   "cell_type": "code",
   "execution_count": 38,
   "id": "b038a392",
   "metadata": {},
   "outputs": [
    {
     "data": {
      "image/png": "[encoded data removed]",
      "text/plain": [
       "<Figure size 432x288 with 1 Axes>"
      ]
     },
     "metadata": {
      "needs_background": "light"
     },
     "output_type": "display_data"
    }
   ],
   "source": [
    "plot_svm_solution(best_linear, x, y)"
   ]
  },
  {
   "cell_type": "code",
   "execution_count": 39,
   "id": "2274f742",
   "metadata": {},
   "outputs": [
    {
     "data": {
      "image/png": "[encoded data removed]",
      "text/plain": [
       "<Figure size 432x288 with 1 Axes>"
      ]
     },
     "metadata": {
      "needs_background": "light"
     },
     "output_type": "display_data"
    }
   ],
   "source": [
    "plot_something(x, y)"
   ]
  },
  {
   "cell_type": "markdown",
   "id": "a5aad772",
   "metadata": {},
   "source": [
    "### Gaussian"
   ]
  },
  {
   "cell_type": "code",
   "execution_count": 40,
   "id": "766f6ddb",
   "metadata": {},
   "outputs": [],
   "source": [
    "x, y = to_x_y(chip)\n",
    "best_gauss, _ = smo(x, y, kernel=gaussian(1), c=1, steps=1)"
   ]
  },
  {
   "cell_type": "code",
   "execution_count": 41,
   "id": "06b513e7",
   "metadata": {},
   "outputs": [
    {
     "name": "stderr",
     "output_type": "stream",
     "text": [
      "/tmp/ipykernel_2446884/1674753320.py:1: DeprecationWarning: Converting `np.integer` or `np.signedinteger` to a dtype is deprecated. The current result is `np.dtype(np.int_)` which is not strictly correct. Note that the result depends on the system. To ensure stable results use may want to use `np.int64` or `np.int32`.\n",
      "  f'Accuracy {accuracy(y.astype(jnp.integer), to_class(best_gauss, x))}'\n"
     ]
    },
    {
     "data": {
      "text/plain": [
       "'Accuracy 0.6694915254237288'"
      ]
     },
     "execution_count": 41,
     "metadata": {},
     "output_type": "execute_result"
    }
   ],
   "source": [
    "f'Accuracy {accuracy(y.astype(jnp.integer), to_class(best_gauss, x))}'"
   ]
  },
  {
   "cell_type": "code",
   "execution_count": 42,
   "id": "7331945d",
   "metadata": {},
   "outputs": [
    {
     "data": {
      "image/png": "[encoded data removed]",
      "text/plain": [
       "<Figure size 432x288 with 1 Axes>"
      ]
     },
     "metadata": {
      "needs_background": "light"
     },
     "output_type": "display_data"
    }
   ],
   "source": [
    "plot_svm(best_gauss, min_x=-1, min_y=-1, max_x=1., max_y=1.)"
   ]
  },
  {
   "cell_type": "code",
   "execution_count": 43,
   "id": "70b3ab81",
   "metadata": {},
   "outputs": [
    {
     "data": {
      "image/png": "[encoded data removed]",
      "text/plain": [
       "<Figure size 432x288 with 1 Axes>"
      ]
     },
     "metadata": {
      "needs_background": "light"
     },
     "output_type": "display_data"
    }
   ],
   "source": [
    "plot_svm_solution(best_gauss, x, y)"
   ]
  },
  {
   "cell_type": "markdown",
   "id": "bb115bd4",
   "metadata": {},
   "source": [
    "### Polynomial"
   ]
  },
  {
   "cell_type": "code",
   "execution_count": 44,
   "id": "dc501073",
   "metadata": {},
   "outputs": [],
   "source": [
    "x, y = to_x_y(chip)\n",
    "best_poly, poly_params = smo(x, y, kernel=polynomial(5), c=1)"
   ]
  },
  {
   "cell_type": "code",
   "execution_count": 45,
   "id": "59bb9c7a",
   "metadata": {},
   "outputs": [
    {
     "name": "stderr",
     "output_type": "stream",
     "text": [
      "/tmp/ipykernel_2446884/1926486611.py:1: DeprecationWarning: Converting `np.integer` or `np.signedinteger` to a dtype is deprecated. The current result is `np.dtype(np.int_)` which is not strictly correct. Note that the result depends on the system. To ensure stable results use may want to use `np.int64` or `np.int32`.\n",
      "  f'Accuracy {accuracy(y.astype(jnp.integer), to_class(best_poly, x))}'\n"
     ]
    },
    {
     "data": {
      "text/plain": [
       "'Accuracy 0.5423728813559322'"
      ]
     },
     "execution_count": 45,
     "metadata": {},
     "output_type": "execute_result"
    }
   ],
   "source": [
    "f'Accuracy {accuracy(y.astype(jnp.integer), to_class(best_poly, x))}'"
   ]
  },
  {
   "cell_type": "code",
   "execution_count": 46,
   "id": "89bc9c27",
   "metadata": {},
   "outputs": [
    {
     "data": {
      "image/png": "[encoded data removed]",
      "text/plain": [
       "<Figure size 432x288 with 1 Axes>"
      ]
     },
     "metadata": {
      "needs_background": "light"
     },
     "output_type": "display_data"
    }
   ],
   "source": [
    "plot_svm(best_poly, min_x=-1, min_y=-1, max_x=1., max_y=1.)"
   ]
  },
  {
   "cell_type": "code",
   "execution_count": 47,
   "id": "9f75e7f9",
   "metadata": {},
   "outputs": [
    {
     "data": {
      "image/png": "[encoded data removed]",
      "text/plain": [
       "<Figure size 432x288 with 1 Axes>"
      ]
     },
     "metadata": {
      "needs_background": "light"
     },
     "output_type": "display_data"
    }
   ],
   "source": [
    "plot_svm_solution(best_poly, x, y)"
   ]
  },
  {
   "cell_type": "code",
   "execution_count": null,
   "id": "64b36eda",
   "metadata": {},
   "outputs": [],
   "source": []
  }
 ],
 "metadata": {
  "kernelspec": {
   "display_name": "Python 3 (ipykernel)",
   "language": "python",
   "name": "python3"
  },
  "language_info": {
   "codemirror_mode": {
    "name": "ipython",
    "version": 3
   },
   "file_extension": ".py",
   "mimetype": "text/x-python",
   "name": "python",
   "nbconvert_exporter": "python",
   "pygments_lexer": "ipython3",
   "version": "3.9.7"
  }
 },
 "nbformat": 4,
 "nbformat_minor": 5
}
