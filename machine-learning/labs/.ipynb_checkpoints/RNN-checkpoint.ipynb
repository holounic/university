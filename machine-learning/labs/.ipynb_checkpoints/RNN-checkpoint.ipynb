{
 "cells": [
  {
   "cell_type": "markdown",
   "id": "c424335d",
   "metadata": {},
   "source": [
    "[Wordle](https://www.kaggle.com/datasets/cprosser3/wordle-5-letter-words)"
   ]
  },
  {
   "cell_type": "code",
   "execution_count": 244,
   "id": "5432e483",
   "metadata": {},
   "outputs": [],
   "source": [
    "import os\n",
    "import re\n",
    "\n",
    "import pandas as pd\n",
    "\n",
    "import torch\n",
    "import torch.nn.functional as F\n",
    "import torch.nn as nn\n",
    "import torch.optim as optim\n",
    "\n",
    "import time\n",
    "\n",
    "import numpy as np"
   ]
  },
  {
   "cell_type": "markdown",
   "id": "e1ad88df",
   "metadata": {},
   "source": [
    "# Data actions"
   ]
  },
  {
   "cell_type": "code",
   "execution_count": 158,
   "id": "81ad4f18",
   "metadata": {},
   "outputs": [
    {
     "data": {
      "text/html": [
       "<div>\n",
       "<style scoped>\n",
       "    .dataframe tbody tr th:only-of-type {\n",
       "        vertical-align: middle;\n",
       "    }\n",
       "\n",
       "    .dataframe tbody tr th {\n",
       "        vertical-align: top;\n",
       "    }\n",
       "\n",
       "    .dataframe thead th {\n",
       "        text-align: right;\n",
       "    }\n",
       "</style>\n",
       "<table border=\"1\" class=\"dataframe\">\n",
       "  <thead>\n",
       "    <tr style=\"text-align: right;\">\n",
       "      <th></th>\n",
       "      <th>1</th>\n",
       "      <th>2</th>\n",
       "      <th>3</th>\n",
       "      <th>4</th>\n",
       "      <th>5</th>\n",
       "    </tr>\n",
       "  </thead>\n",
       "  <tbody>\n",
       "    <tr>\n",
       "      <th>0</th>\n",
       "      <td>a</td>\n",
       "      <td>b</td>\n",
       "      <td>a</td>\n",
       "      <td>c</td>\n",
       "      <td>k</td>\n",
       "    </tr>\n",
       "    <tr>\n",
       "      <th>1</th>\n",
       "      <td>a</td>\n",
       "      <td>b</td>\n",
       "      <td>a</td>\n",
       "      <td>s</td>\n",
       "      <td>e</td>\n",
       "    </tr>\n",
       "    <tr>\n",
       "      <th>2</th>\n",
       "      <td>a</td>\n",
       "      <td>b</td>\n",
       "      <td>a</td>\n",
       "      <td>t</td>\n",
       "      <td>e</td>\n",
       "    </tr>\n",
       "    <tr>\n",
       "      <th>3</th>\n",
       "      <td>a</td>\n",
       "      <td>b</td>\n",
       "      <td>a</td>\n",
       "      <td>y</td>\n",
       "      <td>a</td>\n",
       "    </tr>\n",
       "    <tr>\n",
       "      <th>4</th>\n",
       "      <td>a</td>\n",
       "      <td>b</td>\n",
       "      <td>b</td>\n",
       "      <td>e</td>\n",
       "      <td>y</td>\n",
       "    </tr>\n",
       "  </tbody>\n",
       "</table>\n",
       "</div>"
      ],
      "text/plain": [
       "   1  2  3  4  5\n",
       "0  a  b  a  c  k\n",
       "1  a  b  a  s  e\n",
       "2  a  b  a  t  e\n",
       "3  a  b  a  y  a\n",
       "4  a  b  b  e  y"
      ]
     },
     "execution_count": 158,
     "metadata": {},
     "output_type": "execute_result"
    }
   ],
   "source": [
    "file = 'data/texts.csv'\n",
    "ds = pd.read_csv(file)\n",
    "\n",
    "ds.head()"
   ]
  },
  {
   "cell_type": "code",
   "execution_count": 159,
   "id": "482a2a78",
   "metadata": {},
   "outputs": [
    {
     "data": {
      "text/plain": [
       "(2499, 5)"
      ]
     },
     "execution_count": 159,
     "metadata": {},
     "output_type": "execute_result"
    }
   ],
   "source": [
    "ds.shape"
   ]
  },
  {
   "cell_type": "code",
   "execution_count": 230,
   "id": "a74ee0ac",
   "metadata": {},
   "outputs": [],
   "source": [
    "N_LETTERS = 26"
   ]
  },
  {
   "cell_type": "code",
   "execution_count": 169,
   "id": "407d6fc8",
   "metadata": {},
   "outputs": [
    {
     "data": {
      "text/plain": [
       "['aback',\n",
       " 'abase',\n",
       " 'abate',\n",
       " 'abaya',\n",
       " 'abbey',\n",
       " 'abbot',\n",
       " 'abets',\n",
       " 'abhor',\n",
       " 'abide',\n",
       " 'abode']"
      ]
     },
     "execution_count": 169,
     "metadata": {},
     "output_type": "execute_result"
    }
   ],
   "source": [
    "words = [''.join(v) for v in ds.values]\n",
    "words[:10]"
   ]
  },
  {
   "cell_type": "markdown",
   "id": "57b266fa",
   "metadata": {},
   "source": [
    "## For lstm"
   ]
  },
  {
   "cell_type": "code",
   "execution_count": 242,
   "id": "be28e62e",
   "metadata": {},
   "outputs": [],
   "source": [
    "ORD_A = ord('a')\n",
    "\n",
    "def word_one_hot(word, use_torch=False):\n",
    "    letters = [letter_one_hot(letter, use_torch) for letter in word]\n",
    "    return torch.stack(letters) if use_torch else letters\n",
    "\n",
    "def letter_one_hot(letter, use_torch=False):\n",
    "    encoding = [0. for _ in range(N_LETTERS)]\n",
    "    encoding[ord(letter) - ORD_A] = 1.\n",
    "    return torch.tensor(encoding) if use_torch else encoding"
   ]
  },
  {
   "cell_type": "code",
   "execution_count": 243,
   "id": "b2c39018",
   "metadata": {},
   "outputs": [
    {
     "data": {
      "text/plain": [
       "tensor([0., 1., 0., 0., 0., 0., 0., 0., 0., 0., 0., 0., 0., 0., 0., 0., 0., 0.,\n",
       "        0., 0., 0., 0., 0., 0., 0., 0.])"
      ]
     },
     "execution_count": 243,
     "metadata": {},
     "output_type": "execute_result"
    }
   ],
   "source": [
    "letter_one_hot('b', True)"
   ]
  },
  {
   "cell_type": "code",
   "execution_count": 241,
   "id": "b95ef0db",
   "metadata": {},
   "outputs": [
    {
     "data": {
      "text/plain": [
       "tensor([[1., 0., 0., 0., 0., 0., 0., 0., 0., 0., 0., 0., 0., 0., 0., 0., 0., 0.,\n",
       "         0., 0., 0., 0., 0., 0., 0., 0.],\n",
       "        [0., 1., 0., 0., 0., 0., 0., 0., 0., 0., 0., 0., 0., 0., 0., 0., 0., 0.,\n",
       "         0., 0., 0., 0., 0., 0., 0., 0.],\n",
       "        [0., 0., 0., 0., 0., 0., 0., 0., 0., 0., 0., 0., 0., 0., 1., 0., 0., 0.,\n",
       "         0., 0., 0., 0., 0., 0., 0., 0.],\n",
       "        [0., 1., 0., 0., 0., 0., 0., 0., 0., 0., 0., 0., 0., 0., 0., 0., 0., 0.,\n",
       "         0., 0., 0., 0., 0., 0., 0., 0.],\n",
       "        [1., 0., 0., 0., 0., 0., 0., 0., 0., 0., 0., 0., 0., 0., 0., 0., 0., 0.,\n",
       "         0., 0., 0., 0., 0., 0., 0., 0.]])"
      ]
     },
     "execution_count": 241,
     "metadata": {},
     "output_type": "execute_result"
    }
   ],
   "source": [
    "word_one_hot('aboba', True)"
   ]
  },
  {
   "cell_type": "code",
   "execution_count": 246,
   "id": "97f6af28",
   "metadata": {},
   "outputs": [
    {
     "data": {
      "text/plain": [
       "tensor([[1., 0., 0., 0., 0., 0., 0., 0., 0., 0., 0., 0., 0., 0., 0., 0., 0., 0.,\n",
       "         0., 0., 0., 0., 0., 0., 0., 0.],\n",
       "        [0., 1., 0., 0., 0., 0., 0., 0., 0., 0., 0., 0., 0., 0., 0., 0., 0., 0.,\n",
       "         0., 0., 0., 0., 0., 0., 0., 0.],\n",
       "        [1., 0., 0., 0., 0., 0., 0., 0., 0., 0., 0., 0., 0., 0., 0., 0., 0., 0.,\n",
       "         0., 0., 0., 0., 0., 0., 0., 0.],\n",
       "        [0., 0., 1., 0., 0., 0., 0., 0., 0., 0., 0., 0., 0., 0., 0., 0., 0., 0.,\n",
       "         0., 0., 0., 0., 0., 0., 0., 0.],\n",
       "        [0., 0., 0., 0., 0., 0., 0., 0., 0., 0., 1., 0., 0., 0., 0., 0., 0., 0.,\n",
       "         0., 0., 0., 0., 0., 0., 0., 0.]])"
      ]
     },
     "execution_count": 246,
     "metadata": {},
     "output_type": "execute_result"
    }
   ],
   "source": [
    "rnn_inputs = [word_one_hot(word, True) for word in words]\n",
    "rnn_inputs[0]"
   ]
  },
  {
   "cell_type": "markdown",
   "id": "4fe4ebd5",
   "metadata": {},
   "source": [
    "# Markov chain"
   ]
  },
  {
   "cell_type": "code",
   "execution_count": 221,
   "id": "b1084346",
   "metadata": {},
   "outputs": [],
   "source": [
    "class Node:\n",
    "    def __init__(self, string):\n",
    "        self.current = string\n",
    "        self.transitions = {}\n",
    "\n",
    "\n",
    "class MarkovChain:\n",
    "    def __init__(self):\n",
    "        self.nodes = {'(eps)':  Node('')}\n",
    "    \n",
    "    def __build(self, ds, current, i):\n",
    "        value_counts = ds[str(i)].value_counts()\n",
    "        total = ds.shape[0]\n",
    "        for (value, count) in zip(value_counts.keys(), value_counts.values):\n",
    "            current.transitions[current.current + value] = count / total\n",
    "            self.nodes[current.current + value] = Node(current.current + value)\n",
    "            if i < 5:\n",
    "                self.__build(ds.loc[ds[str(i)] == value], self.nodes[current.current + value], i + 1)\n",
    "        \n",
    "    def build(self, ds):\n",
    "        self.__build(ds, self.nodes['(eps)'], 1)\n",
    "        \n",
    "    def __generate(self, current, letters):\n",
    "        if len(letters) != 0:\n",
    "            cur_letter = letters[0]\n",
    "            current = []\n",
    "        return cur_letter + self.__generate()\n",
    "    \n",
    "    def generate(self, letters=None):\n",
    "        if letters is None:\n",
    "            letters = '(eps)'\n",
    "        while True:\n",
    "            if letters not in self.nodes:\n",
    "                break\n",
    "            node = self.nodes[letters]\n",
    "            if len(node.transitions) == 0:\n",
    "                break\n",
    "            letters = max(node.transitions)\n",
    "        return letters"
   ]
  },
  {
   "cell_type": "code",
   "execution_count": 222,
   "id": "c09e958c",
   "metadata": {},
   "outputs": [
    {
     "data": {
      "text/plain": [
       "'Build finished in 1.4896173477172852 seconds'"
      ]
     },
     "execution_count": 222,
     "metadata": {},
     "output_type": "execute_result"
    }
   ],
   "source": [
    "chain = MarkovChain()\n",
    "\n",
    "start = time.time()\n",
    "chain.build(ds)\n",
    "f'Build finished in {time.time() - start} seconds'"
   ]
  },
  {
   "cell_type": "code",
   "execution_count": 224,
   "id": "5d269a90",
   "metadata": {},
   "outputs": [
    {
     "data": {
      "text/plain": [
       "'abaya'"
      ]
     },
     "execution_count": 224,
     "metadata": {},
     "output_type": "execute_result"
    }
   ],
   "source": [
    "chain.generate('aba')"
   ]
  },
  {
   "cell_type": "markdown",
   "id": "388a9790",
   "metadata": {},
   "source": [
    "# LSTM"
   ]
  },
  {
   "cell_type": "code",
   "execution_count": null,
   "id": "9eeee676",
   "metadata": {},
   "outputs": [],
   "source": [
    "class RNN(nn.Module):\n",
    "    def __init__(self, lstm_size=128, embedding_dim=26, n_layers=3):\n",
    "        self.lstm_size = lstm_size\n",
    "        self.embedding_dim = embedding_dim\n",
    "        self.n_layers = n_layers\n",
    "        \n",
    "        self.lstm = nn.LSTM(self.lstm_size, self.lstm_size, num_layers=self.n_layers)\n",
    "        self.fc = nn.Linear(self.lstm_size, embedding_dim)\n",
    "        \n",
    "    def forward(self, x, prev):\n",
    "        output, state = self.lstm(x, prev)\n",
    "        logits"
   ]
  },
  {
   "cell_type": "code",
   "execution_count": 252,
   "id": "d8425e46",
   "metadata": {},
   "outputs": [],
   "source": [
    "lstm = nn.LSTM(26, 26)"
   ]
  },
  {
   "cell_type": "code",
   "execution_count": 258,
   "id": "de91c2d7",
   "metadata": {},
   "outputs": [
    {
     "name": "stdout",
     "output_type": "stream",
     "text": [
      "tensor([[[ 0.1563,  0.1768,  0.4268,  0.2701, -0.2688, -0.3182, -0.4097,\n",
      "           0.4143,  0.3269,  0.0976, -0.2728, -0.1277, -0.1209,  0.1134,\n",
      "           0.1069, -0.1285, -0.0218, -0.2246, -0.3846,  0.1948,  0.2221,\n",
      "           0.0960,  0.1530, -0.2188,  0.0286,  0.2667]]],\n",
      "       grad_fn=<StackBackward0>)\n",
      "tensor([[[ 0.0111,  0.2258,  0.2012,  0.0552, -0.3005, -0.2774, -0.3198,\n",
      "           0.3216,  0.1920, -0.0105, -0.1704, -0.0527, -0.0853,  0.0904,\n",
      "           0.0875, -0.1263, -0.0269, -0.2040, -0.0494,  0.1493,  0.2976,\n",
      "           0.1250,  0.1206, -0.1196, -0.0774,  0.2243]]],\n",
      "       grad_fn=<StackBackward0>)\n",
      "tensor([[[-0.0633,  0.0893,  0.1419,  0.0226, -0.2268, -0.1534, -0.2687,\n",
      "           0.2861,  0.0948, -0.0747, -0.1178, -0.0119, -0.0400,  0.0416,\n",
      "           0.1147, -0.1138, -0.0630, -0.1614,  0.0326,  0.1539,  0.2307,\n",
      "           0.0904,  0.0656, -0.0411, -0.1076,  0.0732]]],\n",
      "       grad_fn=<StackBackward0>)\n",
      "tensor([[[-0.0338,  0.0079,  0.0985, -0.0327, -0.2009, -0.0976, -0.1592,\n",
      "           0.2718, -0.0062, -0.0543, -0.0381, -0.0242, -0.0718,  0.0637,\n",
      "           0.0640, -0.1084, -0.0349, -0.2001,  0.0696,  0.1378,  0.1635,\n",
      "           0.0592,  0.0263,  0.0302, -0.1030,  0.0471]]],\n",
      "       grad_fn=<StackBackward0>)\n",
      "tensor([[[-0.0184,  0.0022,  0.0620,  0.0306, -0.1220, -0.0232, -0.1607,\n",
      "           0.2421, -0.0678, -0.0318, -0.0167, -0.0388, -0.0921,  0.0312,\n",
      "           0.0742, -0.0705, -0.0176, -0.2329,  0.0937,  0.0953,  0.1552,\n",
      "           0.0320,  0.0522, -0.0104, -0.1641, -0.0325]]],\n",
      "       grad_fn=<StackBackward0>)\n"
     ]
    }
   ],
   "source": [
    "hidden = (torch.randn(1, 1, 26),\n",
    "          torch.randn(1, 1, 26))\n",
    "for i in rnn_inputs[0]:\n",
    "    out, hidden = lstm(i.view(1, 1, -1), hidden)\n",
    "    print(out)"
   ]
  },
  {
   "cell_type": "code",
   "execution_count": null,
   "id": "9fc25439",
   "metadata": {},
   "outputs": [],
   "source": []
  }
 ],
 "metadata": {
  "kernelspec": {
   "display_name": "Python 3 (ipykernel)",
   "language": "python",
   "name": "python3"
  },
  "language_info": {
   "codemirror_mode": {
    "name": "ipython",
    "version": 3
   },
   "file_extension": ".py",
   "mimetype": "text/x-python",
   "name": "python",
   "nbconvert_exporter": "python",
   "pygments_lexer": "ipython3",
   "version": "3.9.7"
  }
 },
 "nbformat": 4,
 "nbformat_minor": 5
}
