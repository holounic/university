{
 "cells": [
  {
   "cell_type": "markdown",
   "id": "indian-professor",
   "metadata": {
    "id": "indian-professor"
   },
   "source": [
    "# 1. Предобработка\n",
    "\n",
    "\n",
    "Выберите набор данных из списка в конце задания. Обработайте данные в нём:\n",
    "\n",
    "1. Обработайте недостающие данные в датасете - удалить/заменить/etc, обоснуйте своё решение\n",
    "1. Постройте как минимум по 1 графику каждого типа из представленных на лекции. Для каждого построенного графика объясните почему отображённые данные лучше всего представимы именно этим типом графика\n",
    "1. Сохраните датасет\n",
    "\n",
    "\n",
    "1. Создайте новую колонку, отображающую характеристику набора данных. Новая колонка должна обладать смысловой нагрузкой. \n",
    "\n",
    "    Например, для набора данных о прямоугольниках с двумя колонками width и height будет корректно придумать колонку square, равную width*height или perimeter Некорректно будет придумать колонку width2, равную width*2, потому что эта информация не будет нести полезную информацию о фигурах\n",
    "\n",
    "Не оценивается баллами, но даёт очки уважения:\n",
    "1. Выдвиньте 2 гипотезы о данных. Например, для датасета codeforces достаточно интересной гипотезой может быть \"простые задачи (рейтинг меньше 1500) почти всегда решаются больше 5000 раз\"\n",
    "\n",
    "\n",
    "Наборы данных:\n",
    "\n",
    "1. [Spotify Tracks DB](https://www.kaggle.com/zaheenhamidani/ultimate-spotify-tracks-db) - характеристики треков в spotify\n",
    "1. [VKontakte Dataset of Users' Textual Data](https://www.kaggle.com/oldaandozerskaya/vkontakte-dataset-of-users-textual-data) 1. основная информация 10к профилей ВК\n",
    "1. [Data Science for COVID-19](https://www.kaggle.com/kimjihoo/coronavirusdataset) - информация о распространении коронавируса в Южной Корее в 2020 году\n",
    "1. [Dota 2 - Pro Players Matches Results 2019 ~ 2021](https://www.kaggle.com/devinanzelmo/dota-2-matches?select=player_ratings.csv) - информация матчей игроков DoTA 2. Если данные не влезают в память, можно воспользоваться [аналогом pandas](https://dask.org/) для обработки вне RAM\n",
    "1. [GPS Data of Seabirds](https://www.kaggle.com/saurabhshahane/predicting-animal-behavior-using-gps) - данные о миграции птиц\n",
    "1. [FAANG Historical Stock Price Data](https://www.kaggle.com/specter7/amazon-amzn-historical-stock-price-data) -  данные о биржевых котировках компаний FAANG c 2016 по 2021 год\n",
    "1. [NBA 2k20 player dataset](https://www.kaggle.com/isaienkov/nba2k20-player-dataset) - информация об игроках NBA\n",
    " [Anime dataset](https://www.kaggle.com/thunderz/anime-dataset?select=user_data.csv) - данные о просмотре аниме пользователями с сайта myAnimeList"
   ]
  },
  {
   "cell_type": "markdown",
   "id": "dedicated-parker",
   "metadata": {
    "id": "dedicated-parker"
   },
   "source": [
    "# 2. Интерполяция кривой\n",
    "\n",
    "Сгенерируйте от 5 до 20 случайных точек, расположите их на оси абсцисс\n",
    "\n",
    "1. С помощью библиотеки scipy примените один из её [алгоритмов интерполяции](https://docs.scipy.org/doc/scipy/reference/interpolate.html) к сгенерированным данным\n",
    "1. Изучите математический подход метод выбранного алгоритма интерполяции в scipy. Найдите и продемонстрируйте при сдаче реализацию метода в исходном коде библиотеки scipy. Найти можно в [github репозитории проекта](https://github.com/scipy/scipy)\n",
    "1. Выберите среди методов интерполяции в scipy любой другой метод интерполяции (кроме линейной интерполяций). Реализуйте выбранный метод без использования сторонних библиотек. Разрешается использовать numpy для упрощения математичеких вычислений\n",
    "1. Визуализируйте кривую интерполяции библиотечного и вашего алгоритмов с помощью  matplotlib. Сравните качество интерполяции своего и библиотечного методов, объясните разницу в качестве"
   ]
  },
  {
   "cell_type": "markdown",
   "id": "wicked-colleague",
   "metadata": {
    "id": "wicked-colleague"
   },
   "source": [
    "# 3. Быстрая гистограмма\n",
    "\n",
    "Иногда хочется получить дискретное распределение из N колонок. Но пока что для этого у нас есть только plt.hist(), которая тратит много времени на отрисовку графика. Вам предлагается реализовать свою функцию построения дискретного распределения\n",
    "\n",
    "1. Алгоритм должен получать на вход список чисел и количество колонок гистограммы. Возвращать нужно значения столбцов (ось абсцисс гистограммы) и количество значений, принадлежащее столбцу (ось ординат гистограммы). Пример с использованием plt показан ниже, сигнатура функции также показана ниже\n",
    "1. Изучите функцию [plt.bar](https://matplotlib.org/stable/api/_as_gen/matplotlib.pyplot.bar.html). Это такая же гистограмма как plt.hist, но в отличие от hist требуется явно указывать высоту колонок и их название\n",
    "1. С помощью результатов своего алгоритма и plt.bar постройте гистограмму по массиву из 50+ случайных чисел. Графики plt.bar по вашему алгоритму и plt.hist() должны совпадать, что подтвердит корректность работы вашего алгоритма\n",
    "1. Сравните скорость построения распределения по массиву чисел с помощью своего алгоритма и с помощью plt.hist. В jupyter рекомендуется использовать built-in magic commands, а именно timeit. Но можно обойтись и ручными измерениями времени выполнения"
   ]
  },
  {
   "cell_type": "markdown",
   "id": "uBGoKjgzJ89A",
   "metadata": {
    "id": "uBGoKjgzJ89A"
   },
   "source": [
    "# Предобработка"
   ]
  },
  {
   "cell_type": "code",
   "execution_count": 1,
   "id": "toxic-moldova",
   "metadata": {
    "executionInfo": {
     "elapsed": 288,
     "status": "ok",
     "timestamp": 1632324500655,
     "user": {
      "displayName": "maria samsikova",
      "photoUrl": "https://lh3.googleusercontent.com/a-/AOh14GiEwD9MoyIWU4GCAqdwKYz67NJKkgJDlxpXDiTE=s64",
      "userId": "04288940329043297094"
     },
     "user_tz": -180
    },
    "id": "toxic-moldova"
   },
   "outputs": [],
   "source": [
    "import pandas as pd\n",
    "import numpy as np\n",
    "from copy import copy"
   ]
  },
  {
   "cell_type": "markdown",
   "id": "tdpA6vB8z451",
   "metadata": {
    "id": "tdpA6vB8z451"
   },
   "source": [
    "## Reading csv"
   ]
  },
  {
   "cell_type": "code",
   "execution_count": 2,
   "id": "g2EYfaQQ4bYJ",
   "metadata": {
    "colab": {
     "base_uri": "https://localhost:8080/",
     "height": 394
    },
    "executionInfo": {
     "elapsed": 442,
     "status": "ok",
     "timestamp": 1632324502100,
     "user": {
      "displayName": "maria samsikova",
      "photoUrl": "https://lh3.googleusercontent.com/a-/AOh14GiEwD9MoyIWU4GCAqdwKYz67NJKkgJDlxpXDiTE=s64",
      "userId": "04288940329043297094"
     },
     "user_tz": -180
    },
    "id": "g2EYfaQQ4bYJ",
    "outputId": "855f0b41-bbe5-4493-941b-2572a970fad3"
   },
   "outputs": [
    {
     "data": {
      "text/html": [
       "<div>\n",
       "<style scoped>\n",
       "    .dataframe tbody tr th:only-of-type {\n",
       "        vertical-align: middle;\n",
       "    }\n",
       "\n",
       "    .dataframe tbody tr th {\n",
       "        vertical-align: top;\n",
       "    }\n",
       "\n",
       "    .dataframe thead th {\n",
       "        text-align: right;\n",
       "    }\n",
       "</style>\n",
       "<table border=\"1\" class=\"dataframe\">\n",
       "  <thead>\n",
       "    <tr style=\"text-align: right;\">\n",
       "      <th></th>\n",
       "      <th>genre</th>\n",
       "      <th>artist_name</th>\n",
       "      <th>track_name</th>\n",
       "      <th>track_id</th>\n",
       "      <th>popularity</th>\n",
       "      <th>acousticness</th>\n",
       "      <th>danceability</th>\n",
       "      <th>duration_ms</th>\n",
       "      <th>energy</th>\n",
       "      <th>instrumentalness</th>\n",
       "      <th>key</th>\n",
       "      <th>liveness</th>\n",
       "      <th>loudness</th>\n",
       "      <th>mode</th>\n",
       "      <th>speechiness</th>\n",
       "      <th>tempo</th>\n",
       "      <th>time_signature</th>\n",
       "      <th>valence</th>\n",
       "    </tr>\n",
       "  </thead>\n",
       "  <tbody>\n",
       "    <tr>\n",
       "      <th>0</th>\n",
       "      <td>Movie</td>\n",
       "      <td>Henri Salvador</td>\n",
       "      <td>C'est beau de faire un Show</td>\n",
       "      <td>0BRjO6ga9RKCKjfDqeFgWV</td>\n",
       "      <td>0</td>\n",
       "      <td>0.611</td>\n",
       "      <td>0.389</td>\n",
       "      <td>99373</td>\n",
       "      <td>0.910</td>\n",
       "      <td>0.000</td>\n",
       "      <td>C#</td>\n",
       "      <td>0.3460</td>\n",
       "      <td>-1.828</td>\n",
       "      <td>Major</td>\n",
       "      <td>0.0525</td>\n",
       "      <td>166.969</td>\n",
       "      <td>4/4</td>\n",
       "      <td>0.814</td>\n",
       "    </tr>\n",
       "    <tr>\n",
       "      <th>1</th>\n",
       "      <td>Movie</td>\n",
       "      <td>Martin &amp; les fées</td>\n",
       "      <td>Perdu d'avance (par Gad Elmaleh)</td>\n",
       "      <td>0BjC1NfoEOOusryehmNudP</td>\n",
       "      <td>1</td>\n",
       "      <td>0.246</td>\n",
       "      <td>0.590</td>\n",
       "      <td>137373</td>\n",
       "      <td>0.737</td>\n",
       "      <td>0.000</td>\n",
       "      <td>F#</td>\n",
       "      <td>0.1510</td>\n",
       "      <td>-5.559</td>\n",
       "      <td>Minor</td>\n",
       "      <td>0.0868</td>\n",
       "      <td>174.003</td>\n",
       "      <td>4/4</td>\n",
       "      <td>0.816</td>\n",
       "    </tr>\n",
       "    <tr>\n",
       "      <th>2</th>\n",
       "      <td>Movie</td>\n",
       "      <td>Joseph Williams</td>\n",
       "      <td>Don't Let Me Be Lonely Tonight</td>\n",
       "      <td>0CoSDzoNIKCRs124s9uTVy</td>\n",
       "      <td>3</td>\n",
       "      <td>0.952</td>\n",
       "      <td>0.663</td>\n",
       "      <td>170267</td>\n",
       "      <td>0.131</td>\n",
       "      <td>0.000</td>\n",
       "      <td>C</td>\n",
       "      <td>0.1030</td>\n",
       "      <td>-13.879</td>\n",
       "      <td>Minor</td>\n",
       "      <td>0.0362</td>\n",
       "      <td>99.488</td>\n",
       "      <td>5/4</td>\n",
       "      <td>0.368</td>\n",
       "    </tr>\n",
       "    <tr>\n",
       "      <th>3</th>\n",
       "      <td>Movie</td>\n",
       "      <td>Henri Salvador</td>\n",
       "      <td>Dis-moi Monsieur Gordon Cooper</td>\n",
       "      <td>0Gc6TVm52BwZD07Ki6tIvf</td>\n",
       "      <td>0</td>\n",
       "      <td>0.703</td>\n",
       "      <td>0.240</td>\n",
       "      <td>152427</td>\n",
       "      <td>0.326</td>\n",
       "      <td>0.000</td>\n",
       "      <td>C#</td>\n",
       "      <td>0.0985</td>\n",
       "      <td>-12.178</td>\n",
       "      <td>Major</td>\n",
       "      <td>0.0395</td>\n",
       "      <td>171.758</td>\n",
       "      <td>4/4</td>\n",
       "      <td>0.227</td>\n",
       "    </tr>\n",
       "    <tr>\n",
       "      <th>4</th>\n",
       "      <td>Movie</td>\n",
       "      <td>Fabien Nataf</td>\n",
       "      <td>Ouverture</td>\n",
       "      <td>0IuslXpMROHdEPvSl1fTQK</td>\n",
       "      <td>4</td>\n",
       "      <td>0.950</td>\n",
       "      <td>0.331</td>\n",
       "      <td>82625</td>\n",
       "      <td>0.225</td>\n",
       "      <td>0.123</td>\n",
       "      <td>F</td>\n",
       "      <td>0.2020</td>\n",
       "      <td>-21.150</td>\n",
       "      <td>Major</td>\n",
       "      <td>0.0456</td>\n",
       "      <td>140.576</td>\n",
       "      <td>4/4</td>\n",
       "      <td>0.390</td>\n",
       "    </tr>\n",
       "  </tbody>\n",
       "</table>\n",
       "</div>"
      ],
      "text/plain": [
       "   genre        artist_name  ... time_signature valence\n",
       "0  Movie     Henri Salvador  ...            4/4   0.814\n",
       "1  Movie  Martin & les fées  ...            4/4   0.816\n",
       "2  Movie    Joseph Williams  ...            5/4   0.368\n",
       "3  Movie     Henri Salvador  ...            4/4   0.227\n",
       "4  Movie       Fabien Nataf  ...            4/4   0.390\n",
       "\n",
       "[5 rows x 18 columns]"
      ]
     },
     "execution_count": 2,
     "metadata": {},
     "output_type": "execute_result"
    }
   ],
   "source": [
    "original_ds = pd.read_csv('content/SpotifyFeatures.csv')\n",
    "ds = copy(original_ds)\n",
    "original_ds.head()"
   ]
  },
  {
   "cell_type": "markdown",
   "id": "OmV73Hvwz_IT",
   "metadata": {
    "id": "OmV73Hvwz_IT"
   },
   "source": [
    "## Null replacement"
   ]
  },
  {
   "cell_type": "code",
   "execution_count": 3,
   "id": "3gRXPK1iyiah",
   "metadata": {
    "colab": {
     "base_uri": "https://localhost:8080/"
    },
    "executionInfo": {
     "elapsed": 3,
     "status": "ok",
     "timestamp": 1632324502337,
     "user": {
      "displayName": "maria samsikova",
      "photoUrl": "https://lh3.googleusercontent.com/a-/AOh14GiEwD9MoyIWU4GCAqdwKYz67NJKkgJDlxpXDiTE=s64",
      "userId": "04288940329043297094"
     },
     "user_tz": -180
    },
    "id": "3gRXPK1iyiah",
    "outputId": "7d273c9b-fa40-4eeb-ec14-543e3cc0ff35"
   },
   "outputs": [
    {
     "data": {
      "text/plain": [
       "0"
      ]
     },
     "execution_count": 3,
     "metadata": {},
     "output_type": "execute_result"
    }
   ],
   "source": [
    "ds.isnull().sum().sum()"
   ]
  },
  {
   "cell_type": "code",
   "execution_count": 4,
   "id": "pgJVH0Zmyoas",
   "metadata": {
    "colab": {
     "base_uri": "https://localhost:8080/"
    },
    "executionInfo": {
     "elapsed": 3,
     "status": "ok",
     "timestamp": 1632324502998,
     "user": {
      "displayName": "maria samsikova",
      "photoUrl": "https://lh3.googleusercontent.com/a-/AOh14GiEwD9MoyIWU4GCAqdwKYz67NJKkgJDlxpXDiTE=s64",
      "userId": "04288940329043297094"
     },
     "user_tz": -180
    },
    "id": "pgJVH0Zmyoas",
    "outputId": "92b5ec82-53c8-4ef4-f69a-1fc31696cace"
   },
   "outputs": [
    {
     "data": {
      "text/plain": [
       "genre               False\n",
       "artist_name         False\n",
       "track_name          False\n",
       "track_id            False\n",
       "popularity          False\n",
       "acousticness        False\n",
       "danceability        False\n",
       "duration_ms         False\n",
       "energy              False\n",
       "instrumentalness    False\n",
       "key                 False\n",
       "liveness            False\n",
       "loudness            False\n",
       "mode                False\n",
       "speechiness         False\n",
       "tempo               False\n",
       "time_signature      False\n",
       "valence             False\n",
       "dtype: bool"
      ]
     },
     "execution_count": 4,
     "metadata": {},
     "output_type": "execute_result"
    }
   ],
   "source": [
    "ds.isna().any()"
   ]
  },
  {
   "cell_type": "code",
   "execution_count": 5,
   "id": "2Je6t5RqzfWG",
   "metadata": {
    "executionInfo": {
     "elapsed": 2,
     "status": "ok",
     "timestamp": 1632324504309,
     "user": {
      "displayName": "maria samsikova",
      "photoUrl": "https://lh3.googleusercontent.com/a-/AOh14GiEwD9MoyIWU4GCAqdwKYz67NJKkgJDlxpXDiTE=s64",
      "userId": "04288940329043297094"
     },
     "user_tz": -180
    },
    "id": "2Je6t5RqzfWG"
   },
   "outputs": [],
   "source": [
    "idx = ds[ds.isna().any(axis=1)].index"
   ]
  },
  {
   "cell_type": "code",
   "execution_count": 7,
   "id": "bEbIXZa40F0z",
   "metadata": {
    "colab": {
     "base_uri": "https://localhost:8080/",
     "height": 394
    },
    "executionInfo": {
     "elapsed": 252,
     "status": "ok",
     "timestamp": 1632324549887,
     "user": {
      "displayName": "maria samsikova",
      "photoUrl": "https://lh3.googleusercontent.com/a-/AOh14GiEwD9MoyIWU4GCAqdwKYz67NJKkgJDlxpXDiTE=s64",
      "userId": "04288940329043297094"
     },
     "user_tz": -180
    },
    "id": "bEbIXZa40F0z",
    "outputId": "e645ea2a-f693-4017-987e-d5e3ee692d81"
   },
   "outputs": [
    {
     "data": {
      "text/html": [
       "<div>\n",
       "<style scoped>\n",
       "    .dataframe tbody tr th:only-of-type {\n",
       "        vertical-align: middle;\n",
       "    }\n",
       "\n",
       "    .dataframe tbody tr th {\n",
       "        vertical-align: top;\n",
       "    }\n",
       "\n",
       "    .dataframe thead th {\n",
       "        text-align: right;\n",
       "    }\n",
       "</style>\n",
       "<table border=\"1\" class=\"dataframe\">\n",
       "  <thead>\n",
       "    <tr style=\"text-align: right;\">\n",
       "      <th></th>\n",
       "      <th>genre</th>\n",
       "      <th>artist_name</th>\n",
       "      <th>track_name</th>\n",
       "      <th>track_id</th>\n",
       "      <th>popularity</th>\n",
       "      <th>acousticness</th>\n",
       "      <th>danceability</th>\n",
       "      <th>duration_ms</th>\n",
       "      <th>energy</th>\n",
       "      <th>instrumentalness</th>\n",
       "      <th>key</th>\n",
       "      <th>liveness</th>\n",
       "      <th>loudness</th>\n",
       "      <th>mode</th>\n",
       "      <th>speechiness</th>\n",
       "      <th>tempo</th>\n",
       "      <th>time_signature</th>\n",
       "      <th>valence</th>\n",
       "    </tr>\n",
       "  </thead>\n",
       "  <tbody>\n",
       "    <tr>\n",
       "      <th>0</th>\n",
       "      <td>Movie</td>\n",
       "      <td>Henri Salvador</td>\n",
       "      <td>C'est beau de faire un Show</td>\n",
       "      <td>0BRjO6ga9RKCKjfDqeFgWV</td>\n",
       "      <td>0</td>\n",
       "      <td>0.611</td>\n",
       "      <td>0.389</td>\n",
       "      <td>99373</td>\n",
       "      <td>0.910</td>\n",
       "      <td>0.000</td>\n",
       "      <td>C#</td>\n",
       "      <td>0.3460</td>\n",
       "      <td>-1.828</td>\n",
       "      <td>Major</td>\n",
       "      <td>0.0525</td>\n",
       "      <td>166.969</td>\n",
       "      <td>4/4</td>\n",
       "      <td>0.814</td>\n",
       "    </tr>\n",
       "    <tr>\n",
       "      <th>1</th>\n",
       "      <td>Movie</td>\n",
       "      <td>Martin &amp; les fées</td>\n",
       "      <td>Perdu d'avance (par Gad Elmaleh)</td>\n",
       "      <td>0BjC1NfoEOOusryehmNudP</td>\n",
       "      <td>1</td>\n",
       "      <td>0.246</td>\n",
       "      <td>0.590</td>\n",
       "      <td>137373</td>\n",
       "      <td>0.737</td>\n",
       "      <td>0.000</td>\n",
       "      <td>F#</td>\n",
       "      <td>0.1510</td>\n",
       "      <td>-5.559</td>\n",
       "      <td>Minor</td>\n",
       "      <td>0.0868</td>\n",
       "      <td>174.003</td>\n",
       "      <td>4/4</td>\n",
       "      <td>0.816</td>\n",
       "    </tr>\n",
       "    <tr>\n",
       "      <th>2</th>\n",
       "      <td>Movie</td>\n",
       "      <td>Joseph Williams</td>\n",
       "      <td>Don't Let Me Be Lonely Tonight</td>\n",
       "      <td>0CoSDzoNIKCRs124s9uTVy</td>\n",
       "      <td>3</td>\n",
       "      <td>0.952</td>\n",
       "      <td>0.663</td>\n",
       "      <td>170267</td>\n",
       "      <td>0.131</td>\n",
       "      <td>0.000</td>\n",
       "      <td>C</td>\n",
       "      <td>0.1030</td>\n",
       "      <td>-13.879</td>\n",
       "      <td>Minor</td>\n",
       "      <td>0.0362</td>\n",
       "      <td>99.488</td>\n",
       "      <td>5/4</td>\n",
       "      <td>0.368</td>\n",
       "    </tr>\n",
       "    <tr>\n",
       "      <th>3</th>\n",
       "      <td>Movie</td>\n",
       "      <td>Henri Salvador</td>\n",
       "      <td>Dis-moi Monsieur Gordon Cooper</td>\n",
       "      <td>0Gc6TVm52BwZD07Ki6tIvf</td>\n",
       "      <td>0</td>\n",
       "      <td>0.703</td>\n",
       "      <td>0.240</td>\n",
       "      <td>152427</td>\n",
       "      <td>0.326</td>\n",
       "      <td>0.000</td>\n",
       "      <td>C#</td>\n",
       "      <td>0.0985</td>\n",
       "      <td>-12.178</td>\n",
       "      <td>Major</td>\n",
       "      <td>0.0395</td>\n",
       "      <td>171.758</td>\n",
       "      <td>4/4</td>\n",
       "      <td>0.227</td>\n",
       "    </tr>\n",
       "    <tr>\n",
       "      <th>4</th>\n",
       "      <td>Movie</td>\n",
       "      <td>Fabien Nataf</td>\n",
       "      <td>Ouverture</td>\n",
       "      <td>0IuslXpMROHdEPvSl1fTQK</td>\n",
       "      <td>4</td>\n",
       "      <td>0.950</td>\n",
       "      <td>0.331</td>\n",
       "      <td>82625</td>\n",
       "      <td>0.225</td>\n",
       "      <td>0.123</td>\n",
       "      <td>F</td>\n",
       "      <td>0.2020</td>\n",
       "      <td>-21.150</td>\n",
       "      <td>Major</td>\n",
       "      <td>0.0456</td>\n",
       "      <td>140.576</td>\n",
       "      <td>4/4</td>\n",
       "      <td>0.390</td>\n",
       "    </tr>\n",
       "  </tbody>\n",
       "</table>\n",
       "</div>"
      ],
      "text/plain": [
       "   genre        artist_name  ... time_signature valence\n",
       "0  Movie     Henri Salvador  ...            4/4   0.814\n",
       "1  Movie  Martin & les fées  ...            4/4   0.816\n",
       "2  Movie    Joseph Williams  ...            5/4   0.368\n",
       "3  Movie     Henri Salvador  ...            4/4   0.227\n",
       "4  Movie       Fabien Nataf  ...            4/4   0.390\n",
       "\n",
       "[5 rows x 18 columns]"
      ]
     },
     "execution_count": 7,
     "metadata": {},
     "output_type": "execute_result"
    }
   ],
   "source": [
    "ds = ds.drop(index=idx)\n",
    "ds.head()"
   ]
  },
  {
   "cell_type": "code",
   "execution_count": 8,
   "id": "ESeDsrZ-0UaM",
   "metadata": {
    "colab": {
     "base_uri": "https://localhost:8080/"
    },
    "executionInfo": {
     "elapsed": 250,
     "status": "ok",
     "timestamp": 1632324552367,
     "user": {
      "displayName": "maria samsikova",
      "photoUrl": "https://lh3.googleusercontent.com/a-/AOh14GiEwD9MoyIWU4GCAqdwKYz67NJKkgJDlxpXDiTE=s64",
      "userId": "04288940329043297094"
     },
     "user_tz": -180
    },
    "id": "ESeDsrZ-0UaM",
    "outputId": "0d43c7ac-68b5-4989-d7da-3aa9300eb7c6"
   },
   "outputs": [
    {
     "data": {
      "text/plain": [
       "genre               False\n",
       "artist_name         False\n",
       "track_name          False\n",
       "track_id            False\n",
       "popularity          False\n",
       "acousticness        False\n",
       "danceability        False\n",
       "duration_ms         False\n",
       "energy              False\n",
       "instrumentalness    False\n",
       "key                 False\n",
       "liveness            False\n",
       "loudness            False\n",
       "mode                False\n",
       "speechiness         False\n",
       "tempo               False\n",
       "time_signature      False\n",
       "valence             False\n",
       "dtype: bool"
      ]
     },
     "execution_count": 8,
     "metadata": {},
     "output_type": "execute_result"
    }
   ],
   "source": [
    "ds.isna().any()"
   ]
  },
  {
   "cell_type": "markdown",
   "id": "Z5hrUJ5d03UC",
   "metadata": {
    "id": "Z5hrUJ5d03UC"
   },
   "source": [
    "## Some data action"
   ]
  },
  {
   "cell_type": "markdown",
   "id": "40AIlyq51anN",
   "metadata": {
    "id": "40AIlyq51anN"
   },
   "source": [
    "### Add new column"
   ]
  },
  {
   "cell_type": "code",
   "execution_count": 9,
   "id": "eE5xNMHe7Bm2",
   "metadata": {
    "colab": {
     "base_uri": "https://localhost:8080/",
     "height": 394
    },
    "executionInfo": {
     "elapsed": 426,
     "status": "ok",
     "timestamp": 1632324554006,
     "user": {
      "displayName": "maria samsikova",
      "photoUrl": "https://lh3.googleusercontent.com/a-/AOh14GiEwD9MoyIWU4GCAqdwKYz67NJKkgJDlxpXDiTE=s64",
      "userId": "04288940329043297094"
     },
     "user_tz": -180
    },
    "id": "eE5xNMHe7Bm2",
    "outputId": "3e3a6669-dafa-46d7-9475-d20b6a25bd0a"
   },
   "outputs": [
    {
     "data": {
      "text/html": [
       "<div>\n",
       "<style scoped>\n",
       "    .dataframe tbody tr th:only-of-type {\n",
       "        vertical-align: middle;\n",
       "    }\n",
       "\n",
       "    .dataframe tbody tr th {\n",
       "        vertical-align: top;\n",
       "    }\n",
       "\n",
       "    .dataframe thead th {\n",
       "        text-align: right;\n",
       "    }\n",
       "</style>\n",
       "<table border=\"1\" class=\"dataframe\">\n",
       "  <thead>\n",
       "    <tr style=\"text-align: right;\">\n",
       "      <th></th>\n",
       "      <th>genre</th>\n",
       "      <th>artist_name</th>\n",
       "      <th>track_name</th>\n",
       "      <th>track_id</th>\n",
       "      <th>popularity</th>\n",
       "      <th>acousticness</th>\n",
       "      <th>danceability</th>\n",
       "      <th>duration_ms</th>\n",
       "      <th>energy</th>\n",
       "      <th>instrumentalness</th>\n",
       "      <th>key</th>\n",
       "      <th>liveness</th>\n",
       "      <th>loudness</th>\n",
       "      <th>mode</th>\n",
       "      <th>speechiness</th>\n",
       "      <th>tempo</th>\n",
       "      <th>time_signature</th>\n",
       "      <th>valence</th>\n",
       "      <th>track_name_len</th>\n",
       "    </tr>\n",
       "  </thead>\n",
       "  <tbody>\n",
       "    <tr>\n",
       "      <th>0</th>\n",
       "      <td>Movie</td>\n",
       "      <td>Henri Salvador</td>\n",
       "      <td>C'est beau de faire un Show</td>\n",
       "      <td>0BRjO6ga9RKCKjfDqeFgWV</td>\n",
       "      <td>0</td>\n",
       "      <td>0.611</td>\n",
       "      <td>0.389</td>\n",
       "      <td>99373</td>\n",
       "      <td>0.910</td>\n",
       "      <td>0.000</td>\n",
       "      <td>C#</td>\n",
       "      <td>0.3460</td>\n",
       "      <td>-1.828</td>\n",
       "      <td>Major</td>\n",
       "      <td>0.0525</td>\n",
       "      <td>166.969</td>\n",
       "      <td>4/4</td>\n",
       "      <td>0.814</td>\n",
       "      <td>6</td>\n",
       "    </tr>\n",
       "    <tr>\n",
       "      <th>1</th>\n",
       "      <td>Movie</td>\n",
       "      <td>Martin &amp; les fées</td>\n",
       "      <td>Perdu d'avance (par Gad Elmaleh)</td>\n",
       "      <td>0BjC1NfoEOOusryehmNudP</td>\n",
       "      <td>1</td>\n",
       "      <td>0.246</td>\n",
       "      <td>0.590</td>\n",
       "      <td>137373</td>\n",
       "      <td>0.737</td>\n",
       "      <td>0.000</td>\n",
       "      <td>F#</td>\n",
       "      <td>0.1510</td>\n",
       "      <td>-5.559</td>\n",
       "      <td>Minor</td>\n",
       "      <td>0.0868</td>\n",
       "      <td>174.003</td>\n",
       "      <td>4/4</td>\n",
       "      <td>0.816</td>\n",
       "      <td>5</td>\n",
       "    </tr>\n",
       "    <tr>\n",
       "      <th>2</th>\n",
       "      <td>Movie</td>\n",
       "      <td>Joseph Williams</td>\n",
       "      <td>Don't Let Me Be Lonely Tonight</td>\n",
       "      <td>0CoSDzoNIKCRs124s9uTVy</td>\n",
       "      <td>3</td>\n",
       "      <td>0.952</td>\n",
       "      <td>0.663</td>\n",
       "      <td>170267</td>\n",
       "      <td>0.131</td>\n",
       "      <td>0.000</td>\n",
       "      <td>C</td>\n",
       "      <td>0.1030</td>\n",
       "      <td>-13.879</td>\n",
       "      <td>Minor</td>\n",
       "      <td>0.0362</td>\n",
       "      <td>99.488</td>\n",
       "      <td>5/4</td>\n",
       "      <td>0.368</td>\n",
       "      <td>6</td>\n",
       "    </tr>\n",
       "    <tr>\n",
       "      <th>3</th>\n",
       "      <td>Movie</td>\n",
       "      <td>Henri Salvador</td>\n",
       "      <td>Dis-moi Monsieur Gordon Cooper</td>\n",
       "      <td>0Gc6TVm52BwZD07Ki6tIvf</td>\n",
       "      <td>0</td>\n",
       "      <td>0.703</td>\n",
       "      <td>0.240</td>\n",
       "      <td>152427</td>\n",
       "      <td>0.326</td>\n",
       "      <td>0.000</td>\n",
       "      <td>C#</td>\n",
       "      <td>0.0985</td>\n",
       "      <td>-12.178</td>\n",
       "      <td>Major</td>\n",
       "      <td>0.0395</td>\n",
       "      <td>171.758</td>\n",
       "      <td>4/4</td>\n",
       "      <td>0.227</td>\n",
       "      <td>4</td>\n",
       "    </tr>\n",
       "    <tr>\n",
       "      <th>4</th>\n",
       "      <td>Movie</td>\n",
       "      <td>Fabien Nataf</td>\n",
       "      <td>Ouverture</td>\n",
       "      <td>0IuslXpMROHdEPvSl1fTQK</td>\n",
       "      <td>4</td>\n",
       "      <td>0.950</td>\n",
       "      <td>0.331</td>\n",
       "      <td>82625</td>\n",
       "      <td>0.225</td>\n",
       "      <td>0.123</td>\n",
       "      <td>F</td>\n",
       "      <td>0.2020</td>\n",
       "      <td>-21.150</td>\n",
       "      <td>Major</td>\n",
       "      <td>0.0456</td>\n",
       "      <td>140.576</td>\n",
       "      <td>4/4</td>\n",
       "      <td>0.390</td>\n",
       "      <td>1</td>\n",
       "    </tr>\n",
       "  </tbody>\n",
       "</table>\n",
       "</div>"
      ],
      "text/plain": [
       "   genre        artist_name  ... valence track_name_len\n",
       "0  Movie     Henri Salvador  ...   0.814              6\n",
       "1  Movie  Martin & les fées  ...   0.816              5\n",
       "2  Movie    Joseph Williams  ...   0.368              6\n",
       "3  Movie     Henri Salvador  ...   0.227              4\n",
       "4  Movie       Fabien Nataf  ...   0.390              1\n",
       "\n",
       "[5 rows x 19 columns]"
      ]
     },
     "execution_count": 9,
     "metadata": {},
     "output_type": "execute_result"
    }
   ],
   "source": [
    "# Add column with song length \n",
    "ds['track_name_len'] = [len(str(s).split()) for s in ds['track_name']]\n",
    "ds.head()"
   ]
  },
  {
   "cell_type": "markdown",
   "id": "fnxEOoGV1d9r",
   "metadata": {
    "id": "fnxEOoGV1d9r"
   },
   "source": [
    "### Remove data"
   ]
  },
  {
   "cell_type": "code",
   "execution_count": 10,
   "id": "3q8aZSB22J54",
   "metadata": {
    "colab": {
     "base_uri": "https://localhost:8080/",
     "height": 394
    },
    "executionInfo": {
     "elapsed": 5,
     "status": "ok",
     "timestamp": 1632324555350,
     "user": {
      "displayName": "maria samsikova",
      "photoUrl": "https://lh3.googleusercontent.com/a-/AOh14GiEwD9MoyIWU4GCAqdwKYz67NJKkgJDlxpXDiTE=s64",
      "userId": "04288940329043297094"
     },
     "user_tz": -180
    },
    "id": "3q8aZSB22J54",
    "outputId": "d0db26cd-63a8-43eb-abd7-16c8fd6a2b66"
   },
   "outputs": [
    {
     "data": {
      "text/html": [
       "<div>\n",
       "<style scoped>\n",
       "    .dataframe tbody tr th:only-of-type {\n",
       "        vertical-align: middle;\n",
       "    }\n",
       "\n",
       "    .dataframe tbody tr th {\n",
       "        vertical-align: top;\n",
       "    }\n",
       "\n",
       "    .dataframe thead th {\n",
       "        text-align: right;\n",
       "    }\n",
       "</style>\n",
       "<table border=\"1\" class=\"dataframe\">\n",
       "  <thead>\n",
       "    <tr style=\"text-align: right;\">\n",
       "      <th></th>\n",
       "      <th>artist_name</th>\n",
       "      <th>track_name</th>\n",
       "      <th>track_id</th>\n",
       "      <th>popularity</th>\n",
       "      <th>acousticness</th>\n",
       "      <th>danceability</th>\n",
       "      <th>duration_ms</th>\n",
       "      <th>energy</th>\n",
       "      <th>key</th>\n",
       "      <th>liveness</th>\n",
       "      <th>loudness</th>\n",
       "      <th>mode</th>\n",
       "      <th>speechiness</th>\n",
       "      <th>tempo</th>\n",
       "      <th>time_signature</th>\n",
       "      <th>valence</th>\n",
       "      <th>track_name_len</th>\n",
       "    </tr>\n",
       "  </thead>\n",
       "  <tbody>\n",
       "    <tr>\n",
       "      <th>0</th>\n",
       "      <td>Henri Salvador</td>\n",
       "      <td>C'est beau de faire un Show</td>\n",
       "      <td>0BRjO6ga9RKCKjfDqeFgWV</td>\n",
       "      <td>0</td>\n",
       "      <td>0.611</td>\n",
       "      <td>0.389</td>\n",
       "      <td>99373</td>\n",
       "      <td>0.910</td>\n",
       "      <td>C#</td>\n",
       "      <td>0.3460</td>\n",
       "      <td>-1.828</td>\n",
       "      <td>Major</td>\n",
       "      <td>0.0525</td>\n",
       "      <td>166.969</td>\n",
       "      <td>4/4</td>\n",
       "      <td>0.814</td>\n",
       "      <td>6</td>\n",
       "    </tr>\n",
       "    <tr>\n",
       "      <th>1</th>\n",
       "      <td>Martin &amp; les fées</td>\n",
       "      <td>Perdu d'avance (par Gad Elmaleh)</td>\n",
       "      <td>0BjC1NfoEOOusryehmNudP</td>\n",
       "      <td>1</td>\n",
       "      <td>0.246</td>\n",
       "      <td>0.590</td>\n",
       "      <td>137373</td>\n",
       "      <td>0.737</td>\n",
       "      <td>F#</td>\n",
       "      <td>0.1510</td>\n",
       "      <td>-5.559</td>\n",
       "      <td>Minor</td>\n",
       "      <td>0.0868</td>\n",
       "      <td>174.003</td>\n",
       "      <td>4/4</td>\n",
       "      <td>0.816</td>\n",
       "      <td>5</td>\n",
       "    </tr>\n",
       "    <tr>\n",
       "      <th>2</th>\n",
       "      <td>Joseph Williams</td>\n",
       "      <td>Don't Let Me Be Lonely Tonight</td>\n",
       "      <td>0CoSDzoNIKCRs124s9uTVy</td>\n",
       "      <td>3</td>\n",
       "      <td>0.952</td>\n",
       "      <td>0.663</td>\n",
       "      <td>170267</td>\n",
       "      <td>0.131</td>\n",
       "      <td>C</td>\n",
       "      <td>0.1030</td>\n",
       "      <td>-13.879</td>\n",
       "      <td>Minor</td>\n",
       "      <td>0.0362</td>\n",
       "      <td>99.488</td>\n",
       "      <td>5/4</td>\n",
       "      <td>0.368</td>\n",
       "      <td>6</td>\n",
       "    </tr>\n",
       "    <tr>\n",
       "      <th>3</th>\n",
       "      <td>Henri Salvador</td>\n",
       "      <td>Dis-moi Monsieur Gordon Cooper</td>\n",
       "      <td>0Gc6TVm52BwZD07Ki6tIvf</td>\n",
       "      <td>0</td>\n",
       "      <td>0.703</td>\n",
       "      <td>0.240</td>\n",
       "      <td>152427</td>\n",
       "      <td>0.326</td>\n",
       "      <td>C#</td>\n",
       "      <td>0.0985</td>\n",
       "      <td>-12.178</td>\n",
       "      <td>Major</td>\n",
       "      <td>0.0395</td>\n",
       "      <td>171.758</td>\n",
       "      <td>4/4</td>\n",
       "      <td>0.227</td>\n",
       "      <td>4</td>\n",
       "    </tr>\n",
       "    <tr>\n",
       "      <th>4</th>\n",
       "      <td>Fabien Nataf</td>\n",
       "      <td>Ouverture</td>\n",
       "      <td>0IuslXpMROHdEPvSl1fTQK</td>\n",
       "      <td>4</td>\n",
       "      <td>0.950</td>\n",
       "      <td>0.331</td>\n",
       "      <td>82625</td>\n",
       "      <td>0.225</td>\n",
       "      <td>F</td>\n",
       "      <td>0.2020</td>\n",
       "      <td>-21.150</td>\n",
       "      <td>Major</td>\n",
       "      <td>0.0456</td>\n",
       "      <td>140.576</td>\n",
       "      <td>4/4</td>\n",
       "      <td>0.390</td>\n",
       "      <td>1</td>\n",
       "    </tr>\n",
       "  </tbody>\n",
       "</table>\n",
       "</div>"
      ],
      "text/plain": [
       "         artist_name                        track_name  ... valence  track_name_len\n",
       "0     Henri Salvador       C'est beau de faire un Show  ...   0.814               6\n",
       "1  Martin & les fées  Perdu d'avance (par Gad Elmaleh)  ...   0.816               5\n",
       "2    Joseph Williams    Don't Let Me Be Lonely Tonight  ...   0.368               6\n",
       "3     Henri Salvador    Dis-moi Monsieur Gordon Cooper  ...   0.227               4\n",
       "4       Fabien Nataf                         Ouverture  ...   0.390               1\n",
       "\n",
       "[5 rows x 17 columns]"
      ]
     },
     "execution_count": 10,
     "metadata": {},
     "output_type": "execute_result"
    }
   ],
   "source": [
    "ds = ds.drop(labels=['instrumentalness', 'genre'], axis=1)\n",
    "ds.head()"
   ]
  },
  {
   "cell_type": "markdown",
   "id": "hNPj2DfI4c1J",
   "metadata": {
    "id": "hNPj2DfI4c1J"
   },
   "source": [
    "### Replace data"
   ]
  },
  {
   "cell_type": "code",
   "execution_count": 11,
   "id": "7f0MP3Sp5ScD",
   "metadata": {
    "colab": {
     "base_uri": "https://localhost:8080/",
     "height": 394
    },
    "executionInfo": {
     "elapsed": 261,
     "status": "ok",
     "timestamp": 1632324556327,
     "user": {
      "displayName": "maria samsikova",
      "photoUrl": "https://lh3.googleusercontent.com/a-/AOh14GiEwD9MoyIWU4GCAqdwKYz67NJKkgJDlxpXDiTE=s64",
      "userId": "04288940329043297094"
     },
     "user_tz": -180
    },
    "id": "7f0MP3Sp5ScD",
    "outputId": "8acdd7f1-c870-49f3-c999-0c332d25e90c"
   },
   "outputs": [
    {
     "data": {
      "text/html": [
       "<div>\n",
       "<style scoped>\n",
       "    .dataframe tbody tr th:only-of-type {\n",
       "        vertical-align: middle;\n",
       "    }\n",
       "\n",
       "    .dataframe tbody tr th {\n",
       "        vertical-align: top;\n",
       "    }\n",
       "\n",
       "    .dataframe thead th {\n",
       "        text-align: right;\n",
       "    }\n",
       "</style>\n",
       "<table border=\"1\" class=\"dataframe\">\n",
       "  <thead>\n",
       "    <tr style=\"text-align: right;\">\n",
       "      <th></th>\n",
       "      <th>artist_name</th>\n",
       "      <th>track_name</th>\n",
       "      <th>track_id</th>\n",
       "      <th>popularity</th>\n",
       "      <th>acousticness</th>\n",
       "      <th>danceability</th>\n",
       "      <th>duration_seconds</th>\n",
       "      <th>energy</th>\n",
       "      <th>key</th>\n",
       "      <th>liveness</th>\n",
       "      <th>loudness</th>\n",
       "      <th>mode</th>\n",
       "      <th>speechiness</th>\n",
       "      <th>tempo</th>\n",
       "      <th>time_signature</th>\n",
       "      <th>valence</th>\n",
       "      <th>track_name_len</th>\n",
       "    </tr>\n",
       "  </thead>\n",
       "  <tbody>\n",
       "    <tr>\n",
       "      <th>0</th>\n",
       "      <td>Henri Salvador</td>\n",
       "      <td>C'est beau de faire un Show</td>\n",
       "      <td>0BRjO6ga9RKCKjfDqeFgWV</td>\n",
       "      <td>0</td>\n",
       "      <td>0.611</td>\n",
       "      <td>0.389</td>\n",
       "      <td>9.9373</td>\n",
       "      <td>0.910</td>\n",
       "      <td>C#</td>\n",
       "      <td>0.3460</td>\n",
       "      <td>-1.828</td>\n",
       "      <td>Major</td>\n",
       "      <td>0.0525</td>\n",
       "      <td>166.969</td>\n",
       "      <td>4/4</td>\n",
       "      <td>0.814</td>\n",
       "      <td>6</td>\n",
       "    </tr>\n",
       "    <tr>\n",
       "      <th>1</th>\n",
       "      <td>Martin &amp; les fées</td>\n",
       "      <td>Perdu d'avance (par Gad Elmaleh)</td>\n",
       "      <td>0BjC1NfoEOOusryehmNudP</td>\n",
       "      <td>1</td>\n",
       "      <td>0.246</td>\n",
       "      <td>0.590</td>\n",
       "      <td>13.7373</td>\n",
       "      <td>0.737</td>\n",
       "      <td>F#</td>\n",
       "      <td>0.1510</td>\n",
       "      <td>-5.559</td>\n",
       "      <td>Minor</td>\n",
       "      <td>0.0868</td>\n",
       "      <td>174.003</td>\n",
       "      <td>4/4</td>\n",
       "      <td>0.816</td>\n",
       "      <td>5</td>\n",
       "    </tr>\n",
       "    <tr>\n",
       "      <th>2</th>\n",
       "      <td>Joseph Williams</td>\n",
       "      <td>Don't Let Me Be Lonely Tonight</td>\n",
       "      <td>0CoSDzoNIKCRs124s9uTVy</td>\n",
       "      <td>3</td>\n",
       "      <td>0.952</td>\n",
       "      <td>0.663</td>\n",
       "      <td>17.0267</td>\n",
       "      <td>0.131</td>\n",
       "      <td>C</td>\n",
       "      <td>0.1030</td>\n",
       "      <td>-13.879</td>\n",
       "      <td>Minor</td>\n",
       "      <td>0.0362</td>\n",
       "      <td>99.488</td>\n",
       "      <td>5/4</td>\n",
       "      <td>0.368</td>\n",
       "      <td>6</td>\n",
       "    </tr>\n",
       "    <tr>\n",
       "      <th>3</th>\n",
       "      <td>Henri Salvador</td>\n",
       "      <td>Dis-moi Monsieur Gordon Cooper</td>\n",
       "      <td>0Gc6TVm52BwZD07Ki6tIvf</td>\n",
       "      <td>0</td>\n",
       "      <td>0.703</td>\n",
       "      <td>0.240</td>\n",
       "      <td>15.2427</td>\n",
       "      <td>0.326</td>\n",
       "      <td>C#</td>\n",
       "      <td>0.0985</td>\n",
       "      <td>-12.178</td>\n",
       "      <td>Major</td>\n",
       "      <td>0.0395</td>\n",
       "      <td>171.758</td>\n",
       "      <td>4/4</td>\n",
       "      <td>0.227</td>\n",
       "      <td>4</td>\n",
       "    </tr>\n",
       "    <tr>\n",
       "      <th>4</th>\n",
       "      <td>Fabien Nataf</td>\n",
       "      <td>Ouverture</td>\n",
       "      <td>0IuslXpMROHdEPvSl1fTQK</td>\n",
       "      <td>4</td>\n",
       "      <td>0.950</td>\n",
       "      <td>0.331</td>\n",
       "      <td>8.2625</td>\n",
       "      <td>0.225</td>\n",
       "      <td>F</td>\n",
       "      <td>0.2020</td>\n",
       "      <td>-21.150</td>\n",
       "      <td>Major</td>\n",
       "      <td>0.0456</td>\n",
       "      <td>140.576</td>\n",
       "      <td>4/4</td>\n",
       "      <td>0.390</td>\n",
       "      <td>1</td>\n",
       "    </tr>\n",
       "  </tbody>\n",
       "</table>\n",
       "</div>"
      ],
      "text/plain": [
       "         artist_name                        track_name  ... valence  track_name_len\n",
       "0     Henri Salvador       C'est beau de faire un Show  ...   0.814               6\n",
       "1  Martin & les fées  Perdu d'avance (par Gad Elmaleh)  ...   0.816               5\n",
       "2    Joseph Williams    Don't Let Me Be Lonely Tonight  ...   0.368               6\n",
       "3     Henri Salvador    Dis-moi Monsieur Gordon Cooper  ...   0.227               4\n",
       "4       Fabien Nataf                         Ouverture  ...   0.390               1\n",
       "\n",
       "[5 rows x 17 columns]"
      ]
     },
     "execution_count": 11,
     "metadata": {},
     "output_type": "execute_result"
    }
   ],
   "source": [
    "ds['duration_ms'] = ds['duration_ms'].apply(lambda x : x / 10000)\n",
    "ds = ds.rename(columns={'duration_ms': 'duration_seconds'})\n",
    "ds.head()"
   ]
  },
  {
   "cell_type": "code",
   "execution_count": 12,
   "id": "M2ZnqkI96T4x",
   "metadata": {
    "colab": {
     "base_uri": "https://localhost:8080/",
     "height": 394
    },
    "executionInfo": {
     "elapsed": 5,
     "status": "ok",
     "timestamp": 1632324557501,
     "user": {
      "displayName": "maria samsikova",
      "photoUrl": "https://lh3.googleusercontent.com/a-/AOh14GiEwD9MoyIWU4GCAqdwKYz67NJKkgJDlxpXDiTE=s64",
      "userId": "04288940329043297094"
     },
     "user_tz": -180
    },
    "id": "M2ZnqkI96T4x",
    "outputId": "c8324920-eed4-4501-beef-e53d82c99dfe"
   },
   "outputs": [
    {
     "data": {
      "text/html": [
       "<div>\n",
       "<style scoped>\n",
       "    .dataframe tbody tr th:only-of-type {\n",
       "        vertical-align: middle;\n",
       "    }\n",
       "\n",
       "    .dataframe tbody tr th {\n",
       "        vertical-align: top;\n",
       "    }\n",
       "\n",
       "    .dataframe thead th {\n",
       "        text-align: right;\n",
       "    }\n",
       "</style>\n",
       "<table border=\"1\" class=\"dataframe\">\n",
       "  <thead>\n",
       "    <tr style=\"text-align: right;\">\n",
       "      <th></th>\n",
       "      <th>artist_name</th>\n",
       "      <th>track_name</th>\n",
       "      <th>track_id</th>\n",
       "      <th>popularity</th>\n",
       "      <th>acousticness</th>\n",
       "      <th>danceability</th>\n",
       "      <th>duration_seconds</th>\n",
       "      <th>energy</th>\n",
       "      <th>key</th>\n",
       "      <th>liveness</th>\n",
       "      <th>loudness</th>\n",
       "      <th>mode</th>\n",
       "      <th>speechiness</th>\n",
       "      <th>tempo</th>\n",
       "      <th>time_signature</th>\n",
       "      <th>valence</th>\n",
       "      <th>track_name_len</th>\n",
       "    </tr>\n",
       "  </thead>\n",
       "  <tbody>\n",
       "    <tr>\n",
       "      <th>0</th>\n",
       "      <td>Henri Salvador</td>\n",
       "      <td>C'est beau de faire un Show</td>\n",
       "      <td>0BRjO6ga9RKCKjfDqeFgWV</td>\n",
       "      <td>0</td>\n",
       "      <td>0.611</td>\n",
       "      <td>0.389</td>\n",
       "      <td>9.9373</td>\n",
       "      <td>0.910</td>\n",
       "      <td>C#</td>\n",
       "      <td>0.3460</td>\n",
       "      <td>-1.828</td>\n",
       "      <td>0</td>\n",
       "      <td>0.0525</td>\n",
       "      <td>166.969</td>\n",
       "      <td>4/4</td>\n",
       "      <td>0.814</td>\n",
       "      <td>6</td>\n",
       "    </tr>\n",
       "    <tr>\n",
       "      <th>1</th>\n",
       "      <td>Martin &amp; les fées</td>\n",
       "      <td>Perdu d'avance (par Gad Elmaleh)</td>\n",
       "      <td>0BjC1NfoEOOusryehmNudP</td>\n",
       "      <td>1</td>\n",
       "      <td>0.246</td>\n",
       "      <td>0.590</td>\n",
       "      <td>13.7373</td>\n",
       "      <td>0.737</td>\n",
       "      <td>F#</td>\n",
       "      <td>0.1510</td>\n",
       "      <td>-5.559</td>\n",
       "      <td>1</td>\n",
       "      <td>0.0868</td>\n",
       "      <td>174.003</td>\n",
       "      <td>4/4</td>\n",
       "      <td>0.816</td>\n",
       "      <td>5</td>\n",
       "    </tr>\n",
       "    <tr>\n",
       "      <th>2</th>\n",
       "      <td>Joseph Williams</td>\n",
       "      <td>Don't Let Me Be Lonely Tonight</td>\n",
       "      <td>0CoSDzoNIKCRs124s9uTVy</td>\n",
       "      <td>3</td>\n",
       "      <td>0.952</td>\n",
       "      <td>0.663</td>\n",
       "      <td>17.0267</td>\n",
       "      <td>0.131</td>\n",
       "      <td>C</td>\n",
       "      <td>0.1030</td>\n",
       "      <td>-13.879</td>\n",
       "      <td>1</td>\n",
       "      <td>0.0362</td>\n",
       "      <td>99.488</td>\n",
       "      <td>5/4</td>\n",
       "      <td>0.368</td>\n",
       "      <td>6</td>\n",
       "    </tr>\n",
       "    <tr>\n",
       "      <th>3</th>\n",
       "      <td>Henri Salvador</td>\n",
       "      <td>Dis-moi Monsieur Gordon Cooper</td>\n",
       "      <td>0Gc6TVm52BwZD07Ki6tIvf</td>\n",
       "      <td>0</td>\n",
       "      <td>0.703</td>\n",
       "      <td>0.240</td>\n",
       "      <td>15.2427</td>\n",
       "      <td>0.326</td>\n",
       "      <td>C#</td>\n",
       "      <td>0.0985</td>\n",
       "      <td>-12.178</td>\n",
       "      <td>0</td>\n",
       "      <td>0.0395</td>\n",
       "      <td>171.758</td>\n",
       "      <td>4/4</td>\n",
       "      <td>0.227</td>\n",
       "      <td>4</td>\n",
       "    </tr>\n",
       "    <tr>\n",
       "      <th>4</th>\n",
       "      <td>Fabien Nataf</td>\n",
       "      <td>Ouverture</td>\n",
       "      <td>0IuslXpMROHdEPvSl1fTQK</td>\n",
       "      <td>4</td>\n",
       "      <td>0.950</td>\n",
       "      <td>0.331</td>\n",
       "      <td>8.2625</td>\n",
       "      <td>0.225</td>\n",
       "      <td>F</td>\n",
       "      <td>0.2020</td>\n",
       "      <td>-21.150</td>\n",
       "      <td>0</td>\n",
       "      <td>0.0456</td>\n",
       "      <td>140.576</td>\n",
       "      <td>4/4</td>\n",
       "      <td>0.390</td>\n",
       "      <td>1</td>\n",
       "    </tr>\n",
       "  </tbody>\n",
       "</table>\n",
       "</div>"
      ],
      "text/plain": [
       "         artist_name                        track_name  ... valence  track_name_len\n",
       "0     Henri Salvador       C'est beau de faire un Show  ...   0.814               6\n",
       "1  Martin & les fées  Perdu d'avance (par Gad Elmaleh)  ...   0.816               5\n",
       "2    Joseph Williams    Don't Let Me Be Lonely Tonight  ...   0.368               6\n",
       "3     Henri Salvador    Dis-moi Monsieur Gordon Cooper  ...   0.227               4\n",
       "4       Fabien Nataf                         Ouverture  ...   0.390               1\n",
       "\n",
       "[5 rows x 17 columns]"
      ]
     },
     "execution_count": 12,
     "metadata": {},
     "output_type": "execute_result"
    }
   ],
   "source": [
    "ds.loc[ds['mode'] == 'Major', 'mode'] = 0\n",
    "ds.loc[ds['mode'] == 'Minor', 'mode'] = 1\n",
    "ds.head()"
   ]
  },
  {
   "cell_type": "code",
   "execution_count": 13,
   "id": "wn87Vc2s6ypY",
   "metadata": {
    "colab": {
     "base_uri": "https://localhost:8080/",
     "height": 394
    },
    "executionInfo": {
     "elapsed": 380,
     "status": "ok",
     "timestamp": 1632324559020,
     "user": {
      "displayName": "maria samsikova",
      "photoUrl": "https://lh3.googleusercontent.com/a-/AOh14GiEwD9MoyIWU4GCAqdwKYz67NJKkgJDlxpXDiTE=s64",
      "userId": "04288940329043297094"
     },
     "user_tz": -180
    },
    "id": "wn87Vc2s6ypY",
    "outputId": "29556a17-389d-4e32-9c04-9df3189ffe8c"
   },
   "outputs": [
    {
     "data": {
      "text/html": [
       "<div>\n",
       "<style scoped>\n",
       "    .dataframe tbody tr th:only-of-type {\n",
       "        vertical-align: middle;\n",
       "    }\n",
       "\n",
       "    .dataframe tbody tr th {\n",
       "        vertical-align: top;\n",
       "    }\n",
       "\n",
       "    .dataframe thead th {\n",
       "        text-align: right;\n",
       "    }\n",
       "</style>\n",
       "<table border=\"1\" class=\"dataframe\">\n",
       "  <thead>\n",
       "    <tr style=\"text-align: right;\">\n",
       "      <th></th>\n",
       "      <th>artist_name</th>\n",
       "      <th>track_name</th>\n",
       "      <th>track_id</th>\n",
       "      <th>popularity</th>\n",
       "      <th>acousticness</th>\n",
       "      <th>danceability</th>\n",
       "      <th>duration_seconds</th>\n",
       "      <th>energy</th>\n",
       "      <th>key</th>\n",
       "      <th>liveness</th>\n",
       "      <th>loudness</th>\n",
       "      <th>mode</th>\n",
       "      <th>speechiness</th>\n",
       "      <th>tempo</th>\n",
       "      <th>time_signature</th>\n",
       "      <th>valence</th>\n",
       "      <th>track_name_len</th>\n",
       "    </tr>\n",
       "  </thead>\n",
       "  <tbody>\n",
       "    <tr>\n",
       "      <th>0</th>\n",
       "      <td>Henri Salvador</td>\n",
       "      <td>C'est beau de faire un Show</td>\n",
       "      <td>0BRjO6ga9RKCKjfDqeFgWV</td>\n",
       "      <td>0</td>\n",
       "      <td>0.611</td>\n",
       "      <td>0.389</td>\n",
       "      <td>9.9373</td>\n",
       "      <td>0.910</td>\n",
       "      <td>0</td>\n",
       "      <td>0.3460</td>\n",
       "      <td>-1.828</td>\n",
       "      <td>0</td>\n",
       "      <td>0.0525</td>\n",
       "      <td>166.969</td>\n",
       "      <td>4/4</td>\n",
       "      <td>0.814</td>\n",
       "      <td>6</td>\n",
       "    </tr>\n",
       "    <tr>\n",
       "      <th>1</th>\n",
       "      <td>Martin &amp; les fées</td>\n",
       "      <td>Perdu d'avance (par Gad Elmaleh)</td>\n",
       "      <td>0BjC1NfoEOOusryehmNudP</td>\n",
       "      <td>1</td>\n",
       "      <td>0.246</td>\n",
       "      <td>0.590</td>\n",
       "      <td>13.7373</td>\n",
       "      <td>0.737</td>\n",
       "      <td>1</td>\n",
       "      <td>0.1510</td>\n",
       "      <td>-5.559</td>\n",
       "      <td>1</td>\n",
       "      <td>0.0868</td>\n",
       "      <td>174.003</td>\n",
       "      <td>4/4</td>\n",
       "      <td>0.816</td>\n",
       "      <td>5</td>\n",
       "    </tr>\n",
       "    <tr>\n",
       "      <th>2</th>\n",
       "      <td>Joseph Williams</td>\n",
       "      <td>Don't Let Me Be Lonely Tonight</td>\n",
       "      <td>0CoSDzoNIKCRs124s9uTVy</td>\n",
       "      <td>3</td>\n",
       "      <td>0.952</td>\n",
       "      <td>0.663</td>\n",
       "      <td>17.0267</td>\n",
       "      <td>0.131</td>\n",
       "      <td>2</td>\n",
       "      <td>0.1030</td>\n",
       "      <td>-13.879</td>\n",
       "      <td>1</td>\n",
       "      <td>0.0362</td>\n",
       "      <td>99.488</td>\n",
       "      <td>5/4</td>\n",
       "      <td>0.368</td>\n",
       "      <td>6</td>\n",
       "    </tr>\n",
       "    <tr>\n",
       "      <th>3</th>\n",
       "      <td>Henri Salvador</td>\n",
       "      <td>Dis-moi Monsieur Gordon Cooper</td>\n",
       "      <td>0Gc6TVm52BwZD07Ki6tIvf</td>\n",
       "      <td>0</td>\n",
       "      <td>0.703</td>\n",
       "      <td>0.240</td>\n",
       "      <td>15.2427</td>\n",
       "      <td>0.326</td>\n",
       "      <td>0</td>\n",
       "      <td>0.0985</td>\n",
       "      <td>-12.178</td>\n",
       "      <td>0</td>\n",
       "      <td>0.0395</td>\n",
       "      <td>171.758</td>\n",
       "      <td>4/4</td>\n",
       "      <td>0.227</td>\n",
       "      <td>4</td>\n",
       "    </tr>\n",
       "    <tr>\n",
       "      <th>4</th>\n",
       "      <td>Fabien Nataf</td>\n",
       "      <td>Ouverture</td>\n",
       "      <td>0IuslXpMROHdEPvSl1fTQK</td>\n",
       "      <td>4</td>\n",
       "      <td>0.950</td>\n",
       "      <td>0.331</td>\n",
       "      <td>8.2625</td>\n",
       "      <td>0.225</td>\n",
       "      <td>3</td>\n",
       "      <td>0.2020</td>\n",
       "      <td>-21.150</td>\n",
       "      <td>0</td>\n",
       "      <td>0.0456</td>\n",
       "      <td>140.576</td>\n",
       "      <td>4/4</td>\n",
       "      <td>0.390</td>\n",
       "      <td>1</td>\n",
       "    </tr>\n",
       "  </tbody>\n",
       "</table>\n",
       "</div>"
      ],
      "text/plain": [
       "         artist_name                        track_name  ... valence  track_name_len\n",
       "0     Henri Salvador       C'est beau de faire un Show  ...   0.814               6\n",
       "1  Martin & les fées  Perdu d'avance (par Gad Elmaleh)  ...   0.816               5\n",
       "2    Joseph Williams    Don't Let Me Be Lonely Tonight  ...   0.368               6\n",
       "3     Henri Salvador    Dis-moi Monsieur Gordon Cooper  ...   0.227               4\n",
       "4       Fabien Nataf                         Ouverture  ...   0.390               1\n",
       "\n",
       "[5 rows x 17 columns]"
      ]
     },
     "execution_count": 13,
     "metadata": {},
     "output_type": "execute_result"
    }
   ],
   "source": [
    "key_order = {k : v for v, k in enumerate(ds['key'].unique())}\n",
    "ds['key'] = ds['key'].apply(lambda x : key_order[x])\n",
    "ds.head()"
   ]
  },
  {
   "cell_type": "code",
   "execution_count": 14,
   "id": "opHyPOsC_ujj",
   "metadata": {
    "colab": {
     "base_uri": "https://localhost:8080/",
     "height": 394
    },
    "executionInfo": {
     "elapsed": 483,
     "status": "ok",
     "timestamp": 1632324560655,
     "user": {
      "displayName": "maria samsikova",
      "photoUrl": "https://lh3.googleusercontent.com/a-/AOh14GiEwD9MoyIWU4GCAqdwKYz67NJKkgJDlxpXDiTE=s64",
      "userId": "04288940329043297094"
     },
     "user_tz": -180
    },
    "id": "opHyPOsC_ujj",
    "outputId": "cd19d185-c670-40b4-e4cc-57c071837482"
   },
   "outputs": [
    {
     "data": {
      "text/html": [
       "<div>\n",
       "<style scoped>\n",
       "    .dataframe tbody tr th:only-of-type {\n",
       "        vertical-align: middle;\n",
       "    }\n",
       "\n",
       "    .dataframe tbody tr th {\n",
       "        vertical-align: top;\n",
       "    }\n",
       "\n",
       "    .dataframe thead th {\n",
       "        text-align: right;\n",
       "    }\n",
       "</style>\n",
       "<table border=\"1\" class=\"dataframe\">\n",
       "  <thead>\n",
       "    <tr style=\"text-align: right;\">\n",
       "      <th></th>\n",
       "      <th>artist_name</th>\n",
       "      <th>track_name</th>\n",
       "      <th>track_id</th>\n",
       "      <th>popularity</th>\n",
       "      <th>acousticness</th>\n",
       "      <th>danceability</th>\n",
       "      <th>duration_seconds</th>\n",
       "      <th>energy</th>\n",
       "      <th>key</th>\n",
       "      <th>liveness</th>\n",
       "      <th>loudness</th>\n",
       "      <th>mode</th>\n",
       "      <th>speechiness</th>\n",
       "      <th>tempo</th>\n",
       "      <th>time_signature</th>\n",
       "      <th>valence</th>\n",
       "      <th>track_name_len</th>\n",
       "    </tr>\n",
       "  </thead>\n",
       "  <tbody>\n",
       "    <tr>\n",
       "      <th>0</th>\n",
       "      <td>Henri Salvador</td>\n",
       "      <td>C'est beau de faire un Show</td>\n",
       "      <td>0BRjO6ga9RKCKjfDqeFgWV</td>\n",
       "      <td>0</td>\n",
       "      <td>0.611</td>\n",
       "      <td>0.389</td>\n",
       "      <td>9.9373</td>\n",
       "      <td>0.910</td>\n",
       "      <td>0</td>\n",
       "      <td>0.3460</td>\n",
       "      <td>-1.828</td>\n",
       "      <td>0</td>\n",
       "      <td>0.0525</td>\n",
       "      <td>166.969</td>\n",
       "      <td>0</td>\n",
       "      <td>0.814</td>\n",
       "      <td>6</td>\n",
       "    </tr>\n",
       "    <tr>\n",
       "      <th>1</th>\n",
       "      <td>Martin &amp; les fées</td>\n",
       "      <td>Perdu d'avance (par Gad Elmaleh)</td>\n",
       "      <td>0BjC1NfoEOOusryehmNudP</td>\n",
       "      <td>1</td>\n",
       "      <td>0.246</td>\n",
       "      <td>0.590</td>\n",
       "      <td>13.7373</td>\n",
       "      <td>0.737</td>\n",
       "      <td>1</td>\n",
       "      <td>0.1510</td>\n",
       "      <td>-5.559</td>\n",
       "      <td>1</td>\n",
       "      <td>0.0868</td>\n",
       "      <td>174.003</td>\n",
       "      <td>0</td>\n",
       "      <td>0.816</td>\n",
       "      <td>5</td>\n",
       "    </tr>\n",
       "    <tr>\n",
       "      <th>2</th>\n",
       "      <td>Joseph Williams</td>\n",
       "      <td>Don't Let Me Be Lonely Tonight</td>\n",
       "      <td>0CoSDzoNIKCRs124s9uTVy</td>\n",
       "      <td>3</td>\n",
       "      <td>0.952</td>\n",
       "      <td>0.663</td>\n",
       "      <td>17.0267</td>\n",
       "      <td>0.131</td>\n",
       "      <td>2</td>\n",
       "      <td>0.1030</td>\n",
       "      <td>-13.879</td>\n",
       "      <td>1</td>\n",
       "      <td>0.0362</td>\n",
       "      <td>99.488</td>\n",
       "      <td>1</td>\n",
       "      <td>0.368</td>\n",
       "      <td>6</td>\n",
       "    </tr>\n",
       "    <tr>\n",
       "      <th>3</th>\n",
       "      <td>Henri Salvador</td>\n",
       "      <td>Dis-moi Monsieur Gordon Cooper</td>\n",
       "      <td>0Gc6TVm52BwZD07Ki6tIvf</td>\n",
       "      <td>0</td>\n",
       "      <td>0.703</td>\n",
       "      <td>0.240</td>\n",
       "      <td>15.2427</td>\n",
       "      <td>0.326</td>\n",
       "      <td>0</td>\n",
       "      <td>0.0985</td>\n",
       "      <td>-12.178</td>\n",
       "      <td>0</td>\n",
       "      <td>0.0395</td>\n",
       "      <td>171.758</td>\n",
       "      <td>0</td>\n",
       "      <td>0.227</td>\n",
       "      <td>4</td>\n",
       "    </tr>\n",
       "    <tr>\n",
       "      <th>4</th>\n",
       "      <td>Fabien Nataf</td>\n",
       "      <td>Ouverture</td>\n",
       "      <td>0IuslXpMROHdEPvSl1fTQK</td>\n",
       "      <td>4</td>\n",
       "      <td>0.950</td>\n",
       "      <td>0.331</td>\n",
       "      <td>8.2625</td>\n",
       "      <td>0.225</td>\n",
       "      <td>3</td>\n",
       "      <td>0.2020</td>\n",
       "      <td>-21.150</td>\n",
       "      <td>0</td>\n",
       "      <td>0.0456</td>\n",
       "      <td>140.576</td>\n",
       "      <td>0</td>\n",
       "      <td>0.390</td>\n",
       "      <td>1</td>\n",
       "    </tr>\n",
       "  </tbody>\n",
       "</table>\n",
       "</div>"
      ],
      "text/plain": [
       "         artist_name                        track_name  ... valence  track_name_len\n",
       "0     Henri Salvador       C'est beau de faire un Show  ...   0.814               6\n",
       "1  Martin & les fées  Perdu d'avance (par Gad Elmaleh)  ...   0.816               5\n",
       "2    Joseph Williams    Don't Let Me Be Lonely Tonight  ...   0.368               6\n",
       "3     Henri Salvador    Dis-moi Monsieur Gordon Cooper  ...   0.227               4\n",
       "4       Fabien Nataf                         Ouverture  ...   0.390               1\n",
       "\n",
       "[5 rows x 17 columns]"
      ]
     },
     "execution_count": 14,
     "metadata": {},
     "output_type": "execute_result"
    }
   ],
   "source": [
    "sig_order = {k : v for v, k in enumerate(ds['time_signature'].unique())}\n",
    "ds['time_signature'] = ds['time_signature'].apply(lambda x : sig_order[x])\n",
    "ds.head()"
   ]
  },
  {
   "cell_type": "markdown",
   "id": "AcPuqO2wGtmA",
   "metadata": {
    "id": "AcPuqO2wGtmA"
   },
   "source": [
    "## Save"
   ]
  },
  {
   "cell_type": "code",
   "execution_count": 15,
   "id": "FFKiczQXGs6Y",
   "metadata": {
    "executionInfo": {
     "elapsed": 3307,
     "status": "ok",
     "timestamp": 1632324565676,
     "user": {
      "displayName": "maria samsikova",
      "photoUrl": "https://lh3.googleusercontent.com/a-/AOh14GiEwD9MoyIWU4GCAqdwKYz67NJKkgJDlxpXDiTE=s64",
      "userId": "04288940329043297094"
     },
     "user_tz": -180
    },
    "id": "FFKiczQXGs6Y"
   },
   "outputs": [],
   "source": [
    "ds.to_csv('/content/sample_data/UpdatedFeatures.csv')"
   ]
  },
  {
   "cell_type": "markdown",
   "id": "ji0_ajBNGmY9",
   "metadata": {
    "id": "ji0_ajBNGmY9"
   },
   "source": [
    "## Plots, etc."
   ]
  },
  {
   "cell_type": "code",
   "execution_count": 16,
   "id": "I78_eGvSHSGN",
   "metadata": {
    "executionInfo": {
     "elapsed": 6,
     "status": "ok",
     "timestamp": 1632324565677,
     "user": {
      "displayName": "maria samsikova",
      "photoUrl": "https://lh3.googleusercontent.com/a-/AOh14GiEwD9MoyIWU4GCAqdwKYz67NJKkgJDlxpXDiTE=s64",
      "userId": "04288940329043297094"
     },
     "user_tz": -180
    },
    "id": "I78_eGvSHSGN"
   },
   "outputs": [],
   "source": [
    "import matplotlib.pyplot as plt"
   ]
  },
  {
   "cell_type": "code",
   "execution_count": 18,
   "id": "eFjxiN9BFxDl",
   "metadata": {
    "colab": {
     "base_uri": "https://localhost:8080/",
     "height": 279
    },
    "executionInfo": {
     "elapsed": 733,
     "status": "ok",
     "timestamp": 1632324597228,
     "user": {
      "displayName": "maria samsikova",
      "photoUrl": "https://lh3.googleusercontent.com/a-/AOh14GiEwD9MoyIWU4GCAqdwKYz67NJKkgJDlxpXDiTE=s64",
      "userId": "04288940329043297094"
     },
     "user_tz": -180
    },
    "id": "eFjxiN9BFxDl",
    "outputId": "7b82bb18-59e9-4976-dee5-01e7663f2e6b"
   },
   "outputs": [
    {
     "data": {
      "image/png": "[encoded data removed]",
      "text/plain": [
       "<Figure size 432x288 with 1 Axes>"
      ]
     },
     "metadata": {
      "needs_background": "light"
     },
     "output_type": "display_data"
    }
   ],
   "source": [
    "ds = ds.sort_values(by=['energy'])\n",
    "\n",
    "plt.plot(ds['energy'], ds['duration_seconds'], 'r')\n",
    "plt.xlabel('energy')\n",
    "plt.ylabel('duration_seconds')\n",
    "plt.show()"
   ]
  },
  {
   "cell_type": "code",
   "execution_count": 19,
   "id": "HIDlDQccIQLf",
   "metadata": {
    "colab": {
     "base_uri": "https://localhost:8080/",
     "height": 281
    },
    "executionInfo": {
     "elapsed": 251,
     "status": "ok",
     "timestamp": 1632324600571,
     "user": {
      "displayName": "maria samsikova",
      "photoUrl": "https://lh3.googleusercontent.com/a-/AOh14GiEwD9MoyIWU4GCAqdwKYz67NJKkgJDlxpXDiTE=s64",
      "userId": "04288940329043297094"
     },
     "user_tz": -180
    },
    "id": "HIDlDQccIQLf",
    "outputId": "e3b0d885-a076-4243-fd41-a68722cca220"
   },
   "outputs": [
    {
     "data": {
      "image/png": "[encoded data removed]",
      "text/plain": [
       "<Figure size 432x288 with 1 Axes>"
      ]
     },
     "metadata": {
      "needs_background": "light"
     },
     "output_type": "display_data"
    }
   ],
   "source": [
    "plt.hist(ds.key)\n",
    "plt.title('Spotify song keys')\n",
    "plt.show()"
   ]
  },
  {
   "cell_type": "code",
   "execution_count": 20,
   "id": "1RbzeqOQI4wE",
   "metadata": {
    "colab": {
     "base_uri": "https://localhost:8080/",
     "height": 283
    },
    "executionInfo": {
     "elapsed": 7,
     "status": "ok",
     "timestamp": 1632324606439,
     "user": {
      "displayName": "maria samsikova",
      "photoUrl": "https://lh3.googleusercontent.com/a-/AOh14GiEwD9MoyIWU4GCAqdwKYz67NJKkgJDlxpXDiTE=s64",
      "userId": "04288940329043297094"
     },
     "user_tz": -180
    },
    "id": "1RbzeqOQI4wE",
    "outputId": "b3266ef1-49d3-4644-d8a8-d5559686748b"
   },
   "outputs": [
    {
     "data": {
      "image/png": "[encoded data removed]",
      "text/plain": [
       "<Figure size 432x288 with 1 Axes>"
      ]
     },
     "metadata": {
      "needs_background": "light"
     },
     "output_type": "display_data"
    }
   ],
   "source": [
    "plt.hist2d(ds.track_name_len, ds.popularity)\n",
    "plt.xlabel('length of track name')\n",
    "plt.ylabel('popularity')\n",
    "plt.show()"
   ]
  },
  {
   "cell_type": "code",
   "execution_count": 21,
   "id": "etL5A2R6KYM6",
   "metadata": {
    "colab": {
     "base_uri": "https://localhost:8080/",
     "height": 265
    },
    "executionInfo": {
     "elapsed": 450,
     "status": "ok",
     "timestamp": 1632324609095,
     "user": {
      "displayName": "maria samsikova",
      "photoUrl": "https://lh3.googleusercontent.com/a-/AOh14GiEwD9MoyIWU4GCAqdwKYz67NJKkgJDlxpXDiTE=s64",
      "userId": "04288940329043297094"
     },
     "user_tz": -180
    },
    "id": "etL5A2R6KYM6",
    "outputId": "c8ec8ef7-e4cc-435b-b32a-a3efa5729184"
   },
   "outputs": [
    {
     "data": {
      "image/png": "[encoded data removed]",
      "text/plain": [
       "<Figure size 432x288 with 1 Axes>"
      ]
     },
     "metadata": {
      "needs_background": "light"
     },
     "output_type": "display_data"
    }
   ],
   "source": [
    "plt.boxplot(ds.acousticness)\n",
    "plt.show()"
   ]
  },
  {
   "cell_type": "code",
   "execution_count": 22,
   "id": "fjUpT-_WO_8f",
   "metadata": {
    "colab": {
     "base_uri": "https://localhost:8080/",
     "height": 279
    },
    "executionInfo": {
     "elapsed": 874,
     "status": "ok",
     "timestamp": 1632324611590,
     "user": {
      "displayName": "maria samsikova",
      "photoUrl": "https://lh3.googleusercontent.com/a-/AOh14GiEwD9MoyIWU4GCAqdwKYz67NJKkgJDlxpXDiTE=s64",
      "userId": "04288940329043297094"
     },
     "user_tz": -180
    },
    "id": "fjUpT-_WO_8f",
    "outputId": "df2a91a5-72cd-461b-b7b8-0a4f973fc94b"
   },
   "outputs": [
    {
     "data": {
      "image/png": "[encoded data removed]",
      "text/plain": [
       "<Figure size 432x288 with 1 Axes>"
      ]
     },
     "metadata": {
      "needs_background": "light"
     },
     "output_type": "display_data"
    }
   ],
   "source": [
    "plt.scatter(ds.acousticness, ds.loudness)\n",
    "plt.xlabel('acousticness')\n",
    "plt.ylabel('loudness')\n",
    "plt.show()"
   ]
  },
  {
   "cell_type": "markdown",
   "id": "XZaOoVhYKBMI",
   "metadata": {
    "id": "XZaOoVhYKBMI"
   },
   "source": [
    "# Интерполяция"
   ]
  },
  {
   "cell_type": "code",
   "execution_count": 23,
   "id": "pIhxv9eYKDww",
   "metadata": {
    "executionInfo": {
     "elapsed": 542,
     "status": "ok",
     "timestamp": 1632324612661,
     "user": {
      "displayName": "maria samsikova",
      "photoUrl": "https://lh3.googleusercontent.com/a-/AOh14GiEwD9MoyIWU4GCAqdwKYz67NJKkgJDlxpXDiTE=s64",
      "userId": "04288940329043297094"
     },
     "user_tz": -180
    },
    "id": "pIhxv9eYKDww"
   },
   "outputs": [],
   "source": [
    "import random\n",
    "from scipy import interpolate as interp"
   ]
  },
  {
   "cell_type": "markdown",
   "id": "tLF5xWDyZsyC",
   "metadata": {
    "id": "tLF5xWDyZsyC"
   },
   "source": [
    "Implemented formula from [this document](https://people.maths.ox.ac.uk/trefethen/barycentric.pdf)\n",
    "\n",
    "[Krogh interpolation](https://github.com/scipy/scipy/blob/v1.7.1/scipy/interpolate/polyint.py#L358-L421)\n",
    "\n",
    "[Original article](https://www.ams.org/journals/mcom/1970-24-109/S0025-5718-1970-0258240-X/S0025-5718-1970-0258240-X.pdf)"
   ]
  },
  {
   "cell_type": "code",
   "execution_count": 24,
   "id": "EJm9YadWMpE6",
   "metadata": {
    "executionInfo": {
     "elapsed": 227,
     "status": "ok",
     "timestamp": 1632324614874,
     "user": {
      "displayName": "maria samsikova",
      "photoUrl": "https://lh3.googleusercontent.com/a-/AOh14GiEwD9MoyIWU4GCAqdwKYz67NJKkgJDlxpXDiTE=s64",
      "userId": "04288940329043297094"
     },
     "user_tz": -180
    },
    "id": "EJm9YadWMpE6"
   },
   "outputs": [],
   "source": [
    "def barycentric_interpolate(xi, yi, x):\n",
    "  w = []\n",
    "  for i, x_i in enumerate(xi):\n",
    "    cur = 1\n",
    "    for j, x_j in enumerate(xi):\n",
    "      if i == j:\n",
    "        continue\n",
    "      cur *= (1 / (x_i - x_j))\n",
    "    w.append(cur)\n",
    "  y = []\n",
    "  for k in x:\n",
    "    a = sum(y_j * w_j / (k - x_j) for x_j, y_j, w_j in zip(xi, yi, w))\n",
    "    b = sum(w_j / (k - x_j) for x_j, w_j in zip(xi, w))\n",
    "    y.append(a / b)\n",
    "  return y"
   ]
  },
  {
   "cell_type": "code",
   "execution_count": 25,
   "id": "tdYoATpxK4uv",
   "metadata": {
    "executionInfo": {
     "elapsed": 314,
     "status": "ok",
     "timestamp": 1632324616624,
     "user": {
      "displayName": "maria samsikova",
      "photoUrl": "https://lh3.googleusercontent.com/a-/AOh14GiEwD9MoyIWU4GCAqdwKYz67NJKkgJDlxpXDiTE=s64",
      "userId": "04288940329043297094"
     },
     "user_tz": -180
    },
    "id": "tdYoATpxK4uv"
   },
   "outputs": [],
   "source": [
    "N_POINTS = 20\n",
    "xi = [random.random() for _ in range(N_POINTS)]\n",
    "xi.sort()\n",
    "yi = [random.random() for _ in range(N_POINTS)]\n",
    "\n",
    "x = [random.random() for _ in range(N_POINTS)]\n",
    "x.sort()\n",
    "\n",
    "scipy_y = interp.krogh_interpolate(xi, yi, x)\n",
    "my_y = barycentric_interpolate(xi, yi, x)"
   ]
  },
  {
   "cell_type": "code",
   "execution_count": 26,
   "id": "sNrMx-drPKig",
   "metadata": {
    "colab": {
     "base_uri": "https://localhost:8080/",
     "height": 265
    },
    "executionInfo": {
     "elapsed": 584,
     "status": "ok",
     "timestamp": 1632324618614,
     "user": {
      "displayName": "maria samsikova",
      "photoUrl": "https://lh3.googleusercontent.com/a-/AOh14GiEwD9MoyIWU4GCAqdwKYz67NJKkgJDlxpXDiTE=s64",
      "userId": "04288940329043297094"
     },
     "user_tz": -180
    },
    "id": "sNrMx-drPKig",
    "outputId": "a5bac365-2faa-4c6d-d92e-3fce5d535568"
   },
   "outputs": [
    {
     "data": {
      "image/png": "[encoded data removed]",
      "text/plain": [
       "<Figure size 432x288 with 1 Axes>"
      ]
     },
     "metadata": {
      "needs_background": "light"
     },
     "output_type": "display_data"
    }
   ],
   "source": [
    "plt.plot(x, scipy_y, label='scipy')\n",
    "plt.legend()\n",
    "plt.show()"
   ]
  },
  {
   "cell_type": "code",
   "execution_count": 27,
   "id": "vc6Hs7NKBT8G",
   "metadata": {
    "colab": {
     "base_uri": "https://localhost:8080/",
     "height": 265
    },
    "executionInfo": {
     "elapsed": 7,
     "status": "ok",
     "timestamp": 1632324619736,
     "user": {
      "displayName": "maria samsikova",
      "photoUrl": "https://lh3.googleusercontent.com/a-/AOh14GiEwD9MoyIWU4GCAqdwKYz67NJKkgJDlxpXDiTE=s64",
      "userId": "04288940329043297094"
     },
     "user_tz": -180
    },
    "id": "vc6Hs7NKBT8G",
    "outputId": "40b3f98b-747d-457e-b60f-72cb0ab4a8bf"
   },
   "outputs": [
    {
     "data": {
      "image/png": "[encoded data removed]",
      "text/plain": [
       "<Figure size 432x288 with 1 Axes>"
      ]
     },
     "metadata": {
      "needs_background": "light"
     },
     "output_type": "display_data"
    }
   ],
   "source": [
    "plt.plot(x, my_y, label='my')\n",
    "plt.legend()\n",
    "plt.show()"
   ]
  },
  {
   "cell_type": "markdown",
   "id": "euLC4azmRgbb",
   "metadata": {
    "id": "euLC4azmRgbb"
   },
   "source": [
    "# Быстрая гистограмма"
   ]
  },
  {
   "cell_type": "code",
   "execution_count": 28,
   "id": "j5MyvsoHRj4g",
   "metadata": {
    "executionInfo": {
     "elapsed": 287,
     "status": "ok",
     "timestamp": 1632324622179,
     "user": {
      "displayName": "maria samsikova",
      "photoUrl": "https://lh3.googleusercontent.com/a-/AOh14GiEwD9MoyIWU4GCAqdwKYz67NJKkgJDlxpXDiTE=s64",
      "userId": "04288940329043297094"
     },
     "user_tz": -180
    },
    "id": "j5MyvsoHRj4g"
   },
   "outputs": [],
   "source": [
    "from typing import List, Tuple, Union\n",
    "\n",
    "def fast_hist(array: List[Union[int, float]], \n",
    "              bins: int) -> Tuple[List[int], List[float]]:\n",
    "    array.sort()\n",
    "    l, r = array[0], array[-1]\n",
    "    eps = (r - l) / (bins)\n",
    "    labels = np.arange(l, r, eps)\n",
    "    regions = [0 for _ in range(bins)]\n",
    "    r_ptr = 0\n",
    "    for bin in range(bins):\n",
    "      next_bin_label = labels[bin + 1] if bin + 1 < bins else labels[bin] + 1000\n",
    "      while r_ptr < len(array) and array[r_ptr] < next_bin_label:\n",
    "        regions[bin] += 1\n",
    "        r_ptr += 1\n",
    "\n",
    "    return (regions, labels.tolist()), [eps] * bins"
   ]
  },
  {
   "cell_type": "code",
   "execution_count": 29,
   "id": "riZkztu4c2YT",
   "metadata": {
    "executionInfo": {
     "elapsed": 531,
     "status": "ok",
     "timestamp": 1632324625594,
     "user": {
      "displayName": "maria samsikova",
      "photoUrl": "https://lh3.googleusercontent.com/a-/AOh14GiEwD9MoyIWU4GCAqdwKYz67NJKkgJDlxpXDiTE=s64",
      "userId": "04288940329043297094"
     },
     "user_tz": -180
    },
    "id": "riZkztu4c2YT"
   },
   "outputs": [],
   "source": [
    "import timeit \n",
    "N_EXECUTIONS = 1\n",
    "def measure_time(f, *args):\n",
    "  return timeit.timeit(lambda: f(*args), number=N_EXECUTIONS)"
   ]
  },
  {
   "cell_type": "code",
   "execution_count": 32,
   "id": "JoOviIqZdjVA",
   "metadata": {
    "colab": {
     "base_uri": "https://localhost:8080/",
     "height": 282
    },
    "executionInfo": {
     "elapsed": 743,
     "status": "ok",
     "timestamp": 1632324713837,
     "user": {
      "displayName": "maria samsikova",
      "photoUrl": "https://lh3.googleusercontent.com/a-/AOh14GiEwD9MoyIWU4GCAqdwKYz67NJKkgJDlxpXDiTE=s64",
      "userId": "04288940329043297094"
     },
     "user_tz": -180
    },
    "id": "JoOviIqZdjVA",
    "outputId": "ceb8f6d7-3d25-4241-884a-dc1d87f22358"
   },
   "outputs": [
    {
     "name": "stdout",
     "output_type": "stream",
     "text": [
      "0.05205623700021533 0.02805867200004286\n"
     ]
    },
    {
     "data": {
      "image/png": "[encoded data removed]",
      "text/plain": [
       "<Figure size 432x288 with 1 Axes>"
      ]
     },
     "metadata": {
      "needs_background": "light"
     },
     "output_type": "display_data"
    }
   ],
   "source": [
    "N_ELEMENTS = 100000\n",
    "arr = [random.random() for _ in range(N_ELEMENTS)]\n",
    "my_time = measure_time(fast_hist, arr, 1)\n",
    "plt_time = measure_time(plt.hist, arr, 1)\n",
    "print(my_time, plt_time)"
   ]
  },
  {
   "cell_type": "code",
   "execution_count": 33,
   "id": "39G0aqy8f2AI",
   "metadata": {
    "colab": {
     "base_uri": "https://localhost:8080/"
    },
    "executionInfo": {
     "elapsed": 359,
     "status": "ok",
     "timestamp": 1632324723315,
     "user": {
      "displayName": "maria samsikova",
      "photoUrl": "https://lh3.googleusercontent.com/a-/AOh14GiEwD9MoyIWU4GCAqdwKYz67NJKkgJDlxpXDiTE=s64",
      "userId": "04288940329043297094"
     },
     "user_tz": -180
    },
    "id": "39G0aqy8f2AI",
    "outputId": "f215e2e2-4d6e-4c6c-e89f-a8182bb22d97"
   },
   "outputs": [
    {
     "name": "stdout",
     "output_type": "stream",
     "text": [
      "[0.038866814487070966, 0.4743782544529084, 0.6092281358084373, 0.6253809301773733, 0.9010114293684834, 0.31577694675205736, 0.7379725117827256, 0.484079061119449, 0.6138974758820381, 0.08986213718125591]\n",
      "3\n"
     ]
    }
   ],
   "source": [
    "array = [random.random() for _ in range(10)]\n",
    "bins = random.randint(2, 10)\n",
    "print(array)\n",
    "print(bins)"
   ]
  },
  {
   "cell_type": "code",
   "execution_count": 34,
   "id": "9bzDN-fkgpqN",
   "metadata": {
    "colab": {
     "base_uri": "https://localhost:8080/",
     "height": 302
    },
    "executionInfo": {
     "elapsed": 539,
     "status": "ok",
     "timestamp": 1632324725535,
     "user": {
      "displayName": "maria samsikova",
      "photoUrl": "https://lh3.googleusercontent.com/a-/AOh14GiEwD9MoyIWU4GCAqdwKYz67NJKkgJDlxpXDiTE=s64",
      "userId": "04288940329043297094"
     },
     "user_tz": -180
    },
    "id": "9bzDN-fkgpqN",
    "outputId": "bad47136-6586-49be-fb4a-b2516bf11cca"
   },
   "outputs": [
    {
     "name": "stdout",
     "output_type": "stream",
     "text": [
      "(([3, 3, 4], [0.038866814487070966, 0.3262483527808751, 0.6136298910746792]), [0.28738153829380414, 0.28738153829380414, 0.28738153829380414])\n"
     ]
    },
    {
     "data": {
      "image/png": "[encoded data removed]",
      "text/plain": [
       "<Figure size 432x288 with 1 Axes>"
      ]
     },
     "metadata": {
      "needs_background": "light"
     },
     "output_type": "display_data"
    }
   ],
   "source": [
    "(height, labels), width = fast_hist(array, bins)\n",
    "plt.bar(labels, height, width)\n",
    "print(fast_hist(array, bins))\n",
    "plt.show()"
   ]
  },
  {
   "cell_type": "code",
   "execution_count": 35,
   "id": "kvVE3K7Wgk5H",
   "metadata": {
    "colab": {
     "base_uri": "https://localhost:8080/",
     "height": 316
    },
    "executionInfo": {
     "elapsed": 362,
     "status": "ok",
     "timestamp": 1632324727752,
     "user": {
      "displayName": "maria samsikova",
      "photoUrl": "https://lh3.googleusercontent.com/a-/AOh14GiEwD9MoyIWU4GCAqdwKYz67NJKkgJDlxpXDiTE=s64",
      "userId": "04288940329043297094"
     },
     "user_tz": -180
    },
    "id": "kvVE3K7Wgk5H",
    "outputId": "3207cc62-6c53-4903-b458-866621dd46ff"
   },
   "outputs": [
    {
     "data": {
      "text/plain": [
       "(array([3., 3., 4.]),\n",
       " array([0.03886681, 0.32624835, 0.61362989, 0.90101143]),\n",
       " <a list of 3 Patch objects>)"
      ]
     },
     "execution_count": 35,
     "metadata": {},
     "output_type": "execute_result"
    },
    {
     "data": {
      "image/png": "[encoded data removed]",
      "text/plain": [
       "<Figure size 432x288 with 1 Axes>"
      ]
     },
     "metadata": {
      "needs_background": "light"
     },
     "output_type": "display_data"
    }
   ],
   "source": [
    "plt.hist(array, bins)"
   ]
  }
 ],
 "metadata": {
  "colab": {
   "collapsed_sections": [],
   "name": "Копия Lab-1.ipynb",
   "provenance": []
  },
  "kernelspec": {
   "display_name": "Python 3 (ipykernel)",
   "language": "python",
   "name": "python3"
  },
  "language_info": {
   "codemirror_mode": {
    "name": "ipython",
    "version": 3
   },
   "file_extension": ".py",
   "mimetype": "text/x-python",
   "name": "python",
   "nbconvert_exporter": "python",
   "pygments_lexer": "ipython3",
   "version": "3.9.7"
  }
 },
 "nbformat": 4,
 "nbformat_minor": 5
}
